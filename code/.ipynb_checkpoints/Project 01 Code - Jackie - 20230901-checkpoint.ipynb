{
 "cells": [
  {
   "cell_type": "markdown",
   "metadata": {},
   "source": [
    "<img src=\"http://imgur.com/1ZcRyrc.png\" style=\"float: left; margin: 20px; height: 55px\">\n",
    "\n",
    "# Project 1: Data Analysis of Singapore Rainfall"
   ]
  },
  {
   "cell_type": "markdown",
   "metadata": {},
   "source": [
    "--- \n",
    "# Part 1\n",
    "\n",
    "Part 1 requires knowledge of basic Python.\n",
    "\n",
    "---"
   ]
  },
  {
   "cell_type": "markdown",
   "metadata": {},
   "source": [
    "### Contents:\n",
    "- [Background](#Background)\n",
    "- [Data Import & Cleaning](#Data-Import-and-Cleaning)\n",
    "- [Exploratory Data Analysis](#Exploratory-Data-Analysis)\n",
    "- [Data Visualization](#Visualize-the-Data)\n",
    "- [Conclusions and Recommendations](#Conclusions-and-Recommendations)"
   ]
  },
  {
   "cell_type": "markdown",
   "metadata": {},
   "source": [
    "## Background"
   ]
  },
  {
   "cell_type": "markdown",
   "metadata": {},
   "source": [
    "According to the [Meteorological Services Singapore](http://www.weather.gov.sg/climate-climate-of-singapore/#:~:text=Singapore%20is%20situated%20near%20the,month%2Dto%2Dmonth%20variation.), Singapore has typical tropical climate with adundant rainfall, high and uniform temperatures and high humidity all year round, since its situated near the equator. There are many factors that help us understand the climate of a country and in this project we are going to look into a few, especially rainfall.\n",
    "\n",
    "Singapore’s climate is characterised by two main monsoon seasons separated by inter-monsoonal periods.  The **Northeast Monsoon** occurs from December to early March, and the **Southwest Monsoon** from June to September.\n",
    "\n",
    "The major weather systems affecting Singapore that can lead to heavy rainfall are:\n",
    "\n",
    "-Monsoon surges, or strong wind episodes in the Northeast Monsoon flow bringing about major rainfall events;\n",
    "\n",
    "-Sumatra squalls, an organised line of thunderstorms travelling eastward across Singapore, having developed over the island of Sumatra or Straits of Malacca west of us;\n",
    "\n",
    "-Afternoon and evening thunderstorms caused by strong surface heating and by the sea breeze circulation that develops in the afternoon.\n",
    "\n",
    "Singapore’s climate station has been located at several different sites in the past 140 years. The station had been decommissioned at various points in the past due to changes to local land use in the site’s vicinity, and had to be relocated. Since 1984, the climate station has been located at **Changi**.\n",
    "\n",
    "There are other metrics of climate such as temperature, humidity, sun shine duration, wind speed, cloud cover etc. All the dataset used in the project comes from [data.gov.sg](data.gov.sg), as recorded at the Changi climate station \n"
   ]
  },
  {
   "cell_type": "markdown",
   "metadata": {},
   "source": [
    "### Choose your Data\n",
    "\n",
    "There are 2 datasets included in the [`data`](./data/) folder for this project. These correponds to rainfall information. \n",
    "\n",
    "* [`rainfall-monthly-number-of-rain-days.csv`](./data/rainfall-monthly-number-of-rain-days.csv): Monthly number of rain days from 1982 to 2022. A day is considered to have “rained” if the total rainfall for that day is 0.2mm or more.\n",
    "* [`rainfall-monthly-total.csv`](./data/rainfall-monthly-total.csv): Monthly total rain recorded in mm(millimeters) from 1982 to 2022\n",
    "\n",
    "Other relevant weather datasets from [data.gov.sg](data.gov.sg) that you can download and use are as follows:\n",
    "\n",
    "* [Relative Humidity](https://data.gov.sg/dataset/relative-humidity-monthly-mean)\n",
    "* [Monthly Maximum Daily Rainfall](https://data.gov.sg/dataset/rainfall-monthly-maximum-daily-total)\n",
    "* [Hourly wet buld temperature](https://data.gov.sg/dataset/wet-bulb-temperature-hourly)\n",
    "* [Monthly mean sunshine hours](https://data.gov.sg/dataset/sunshine-duration-monthly-mean-daily-duration)\n",
    "* [Surface Air Temperature](https://data.gov.sg/dataset/surface-air-temperature-mean-daily-minimum)\n",
    "\n",
    "You can also use other datasets for your analysis, make sure to cite the source when you are using them"
   ]
  },
  {
   "cell_type": "markdown",
   "metadata": {},
   "source": [
    "|Filname|Description|Source|\n",
    "|---|---|---|\n",
    "rainfall-monthly-total.csv | Monthly total rainfall in Singapore | NEA, https://beta.data.gov.sg/datasets/1399/view\n",
    "rainfall-monthly-number-of-rain-days.csv | Monthly number of rain days in Singapore | NEA, https://beta.data.gov.sg/datasets/1398/view\n",
    "relative-humidity-monthly-mean.csv | Average monthly relative humidity in Singapore | NEA, https://beta.data.gov.sg/datasets/1404/view\n",
    "surface-air-temperature-monthly-mean.csv | Average monthly surface air temperature in Singapore | NEA, https://beta.data.gov.sg/datasets/1419/view\n",
    "wet-bulb-temperature-hourly.csv | Average hourly wet bulb temperature in Singapore | NEA, https://beta.data.gov.sg/datasets/1423/view\n",
    "T3.5 - Average Monthly Household Electricity Consumption by Planning Area & Dwelling Type.csv | Average Monthly Household Electricity Consumption by Planning Area & Dwelling Type in Singapore | EMA, https://www.ema.gov.sg/resources/singapore-energy-statistics\n",
    "T5.1 - Electricity Tariffs.csv | Average monthly electricity tariffs in Singapore | EMA, https://www.ema.gov.sg/resources/singapore-energy-statistics\n",
    "average-houshold-size-and-income.csv | Average household size and income in Singapore |DOS, https://www.singstat.gov.sg/publications/reference/cop2020/cop2020-sr2/census20_stat_release2\n"
   ]
  },
  {
   "cell_type": "markdown",
   "metadata": {},
   "source": [
    "## Problem Statement"
   ]
  },
  {
   "cell_type": "markdown",
   "metadata": {},
   "source": [
    "Impact of Climate Change on Workforce"
   ]
  },
  {
   "cell_type": "markdown",
   "metadata": {},
   "source": [
    "Decide on your problem statement that will guide your analysis for this project. For guidelines, sample prompts, or inspiration, check out the README.\n"
   ]
  },
  {
   "cell_type": "markdown",
   "metadata": {},
   "source": [
    "Rainfall affects daily activities of Singapore population, hence it is worth analysing rainfall data to identify trends "
   ]
  },
  {
   "cell_type": "markdown",
   "metadata": {},
   "source": [
    "### Outside Research"
   ]
  },
  {
   "cell_type": "markdown",
   "metadata": {},
   "source": [
    "Based on your problem statement and your chosen datasets, spend some time doing outside research on how climate change is affecting different industries or additional information that might be relevant. Summarize your findings below. If you bring in any outside tables or charts, make sure you are explicit about having borrowed them. If you quote any text, make sure that it renders as being quoted. **Make sure that you cite your sources.**"
   ]
  },
  {
   "cell_type": "markdown",
   "metadata": {},
   "source": [
    "1. Climate change affects Singapore weather: \n",
    "NCCS: Impact of Climate Change in Singapore https://www.nccs.gov.sg/singapores-climate-action/impact-of-climate-change-in-singapore/"
   ]
  },
  {
   "cell_type": "markdown",
   "metadata": {},
   "source": []
  },
  {
   "cell_type": "markdown",
   "metadata": {},
   "source": [
    "### Coding Challenges\n",
    "\n",
    "1. Manually calculate mean:\n",
    "\n",
    "    Write a function that takes in values and returns the mean of the values. Create a list of numbers that you test on your function to check to make sure your function works!\n",
    "    \n",
    "    *Note*: Do not use any mean methods built-in to any Python libraries to do this! This should be done without importing any additional libraries."
   ]
  },
  {
   "cell_type": "code",
   "execution_count": 1,
   "metadata": {},
   "outputs": [
    {
     "data": {
      "text/plain": [
       "50.5"
      ]
     },
     "execution_count": 1,
     "metadata": {},
     "output_type": "execute_result"
    }
   ],
   "source": [
    "num1to100 = list(range(1,101))\n",
    "\n",
    "def mean_this(input_data):\n",
    " \n",
    "    return sum(input_data)/len(input_data)\n",
    "\n",
    "mean_this(num1to100)"
   ]
  },
  {
   "cell_type": "markdown",
   "metadata": {},
   "source": [
    "2. Manually calculate standard deviation:\n",
    "\n",
    "    The formula for standard deviation is below:\n",
    "\n",
    "    $$\\sigma = \\sqrt{\\frac{1}{n}\\sum_{i=1}^n(x_i - \\mu)^2}$$\n",
    "\n",
    "    Where $x_i$ represents each value in the dataset, $\\mu$ represents the mean of all values in the dataset and $n$ represents the number of values in the dataset.\n",
    "\n",
    "    Write a function that takes in values and returns the standard deviation of the values using the formula above. Hint: use the function you wrote above to calculate the mean! Use the list of numbers you created above to test on your function.\n",
    "    \n",
    "    *Note*: Do not use any standard deviation methods built-in to any Python libraries to do this! This should be done without importing any additional libraries."
   ]
  },
  {
   "cell_type": "code",
   "execution_count": 2,
   "metadata": {},
   "outputs": [
    {
     "data": {
      "text/plain": [
       "1.0"
      ]
     },
     "execution_count": 2,
     "metadata": {},
     "output_type": "execute_result"
    }
   ],
   "source": [
    "#Standard Deviation of Sample (n-1)\n",
    "\n",
    "def std_dev_this(input_data):\n",
    "\n",
    "    mean_num = mean_this(input_data)\n",
    "    deviations = [(x - mean_num) ** 2 for x in input_data]\n",
    "    variance = sum(deviations) / ( len(input_data) - 1)\n",
    "    \n",
    "    return variance**0.5\n",
    "\n",
    "std_dev_this([1,2,3])"
   ]
  },
  {
   "cell_type": "markdown",
   "metadata": {},
   "source": [
    "--- \n",
    "# Part 2\n",
    "\n",
    "Part 2 requires knowledge of Pandas, EDA, data cleaning, and data visualization.\n",
    "\n",
    "---"
   ]
  },
  {
   "cell_type": "markdown",
   "metadata": {},
   "source": [
    "*All libraries used should be added here*"
   ]
  },
  {
   "cell_type": "code",
   "execution_count": 3,
   "metadata": {},
   "outputs": [],
   "source": [
    "import pandas as pd\n",
    "import numpy as np\n",
    "import seaborn as sns\n",
    "import matplotlib.pyplot as plt"
   ]
  },
  {
   "cell_type": "markdown",
   "metadata": {},
   "source": [
    "## Data Import and Cleaning"
   ]
  },
  {
   "cell_type": "markdown",
   "metadata": {},
   "source": [
    "### Data Import & Cleaning\n",
    "\n",
    "Import all the datasets that you selected for this project and go through the following steps at a minimum. You are welcome to do further cleaning as you feel necessary. Make sure to comment your code to showcase the intent behind the data processing step.\n",
    "1. Display the data: print the first 5 rows of each dataframe to your Jupyter notebook.\n",
    "2. Check for missing values and datatype.\n",
    "3. Check for any obvious issues with the observations.\n",
    "4. Fix any errors you identified in steps 2-3.\n",
    "6. Fix any incorrect data types found in step 5.\n",
    "    - Fix any individual values preventing other columns from being the appropriate type.\n",
    "    - If the month column data is better analyzed as month and year, create new columns for the same\n",
    "7. Rename Columns.\n",
    "    - Column names should be all lowercase.\n",
    "    - Column names should not contain spaces (underscores will suffice--this allows for using the `df.column_name` method to access columns in addition to `df['column_name']`).\n",
    "    - Column names should be unique and informative.\n",
    "8. Drop unnecessary rows (if needed).\n",
    "9. Merge dataframes that can be merged.\n",
    "    - Since different climate metrics are in month format, you can merge them into one single dataframe for easier analysis\n",
    "10. Perform any additional cleaning that you feel is necessary.\n",
    "11. Save your cleaned and merged dataframes as csv files."
   ]
  },
  {
   "cell_type": "code",
   "execution_count": 4,
   "metadata": {},
   "outputs": [],
   "source": [
    "#Data Import\n",
    "df_rainfall = pd.read_csv(\"../data/rainfall-monthly-total.csv\")\n",
    "df_raindays = pd.read_csv(\"../data/rainfall-monthly-number-of-rain-days.csv\")\n",
    "df_wetbulb = pd.read_csv(\"../data/wet-bulb-temperature-hourly.csv\")\n",
    "df_elec = pd.read_csv(\"../data/T3.5 - Average Monthly Household Electricity Consumption by Planning Area & Dwelling Type.csv\", sep = \";\")\n",
    "df_tar = pd.read_csv(\"../data/T5.1 - Electricity Tariffs.csv\", sep = \";\")\n",
    "df_humidity = pd.read_csv(\"../data/relative-humidity-monthly-mean.csv\")\n",
    "df_airtemp = pd.read_csv(\"../data/surface-air-temperature-monthly-mean.csv\")\n"
   ]
  },
  {
   "cell_type": "code",
   "execution_count": 5,
   "metadata": {},
   "outputs": [
    {
     "data": {
      "text/html": [
       "<div>\n",
       "<style scoped>\n",
       "    .dataframe tbody tr th:only-of-type {\n",
       "        vertical-align: middle;\n",
       "    }\n",
       "\n",
       "    .dataframe tbody tr th {\n",
       "        vertical-align: top;\n",
       "    }\n",
       "\n",
       "    .dataframe thead th {\n",
       "        text-align: right;\n",
       "    }\n",
       "</style>\n",
       "<table border=\"1\" class=\"dataframe\">\n",
       "  <thead>\n",
       "    <tr style=\"text-align: right;\">\n",
       "      <th></th>\n",
       "      <th>month</th>\n",
       "      <th>total_rainfall</th>\n",
       "    </tr>\n",
       "  </thead>\n",
       "  <tbody>\n",
       "    <tr>\n",
       "      <th>0</th>\n",
       "      <td>1982-01</td>\n",
       "      <td>107.1</td>\n",
       "    </tr>\n",
       "    <tr>\n",
       "      <th>1</th>\n",
       "      <td>1982-02</td>\n",
       "      <td>27.8</td>\n",
       "    </tr>\n",
       "    <tr>\n",
       "      <th>2</th>\n",
       "      <td>1982-03</td>\n",
       "      <td>160.8</td>\n",
       "    </tr>\n",
       "    <tr>\n",
       "      <th>3</th>\n",
       "      <td>1982-04</td>\n",
       "      <td>157.0</td>\n",
       "    </tr>\n",
       "    <tr>\n",
       "      <th>4</th>\n",
       "      <td>1982-05</td>\n",
       "      <td>102.2</td>\n",
       "    </tr>\n",
       "  </tbody>\n",
       "</table>\n",
       "</div>"
      ],
      "text/plain": [
       "     month  total_rainfall\n",
       "0  1982-01           107.1\n",
       "1  1982-02            27.8\n",
       "2  1982-03           160.8\n",
       "3  1982-04           157.0\n",
       "4  1982-05           102.2"
      ]
     },
     "execution_count": 5,
     "metadata": {},
     "output_type": "execute_result"
    }
   ],
   "source": [
    "#1. Display the data: print the first 5 rows of each dataframe to your Jupyter notebook.\n",
    "\n",
    "df_rainfall.head(5)"
   ]
  },
  {
   "cell_type": "code",
   "execution_count": 6,
   "metadata": {},
   "outputs": [
    {
     "name": "stdout",
     "output_type": "stream",
     "text": [
      "<class 'pandas.core.frame.DataFrame'>\n",
      "RangeIndex: 488 entries, 0 to 487\n",
      "Data columns (total 2 columns):\n",
      " #   Column          Non-Null Count  Dtype  \n",
      "---  ------          --------------  -----  \n",
      " 0   month           488 non-null    object \n",
      " 1   total_rainfall  488 non-null    float64\n",
      "dtypes: float64(1), object(1)\n",
      "memory usage: 7.8+ KB\n"
     ]
    }
   ],
   "source": [
    "#2. Check for missing values and datatype.\n",
    "\n",
    "df_rainfall.info()"
   ]
  },
  {
   "cell_type": "code",
   "execution_count": 7,
   "metadata": {},
   "outputs": [],
   "source": [
    "#Check for any obvious issues with the observations. -> None\n",
    "#Fix any errors you identified in steps 2-3. -> None\n",
    "\n",
    "#Rename Columns -> The original \"month\" column is more accurately \"year-month\"\n",
    "df_rainfall.columns = [\"year-month\", \"total_rainfall\"]\n",
    "\n",
    "#Fix any incorrect data types found in step 5 -> month can be better split into year and month\n",
    "df_rainfall[\"year\"] = df_rainfall[\"year-month\"].str[:4].astype(\"int\")\n",
    "df_rainfall[\"month\"] = df_rainfall[\"year-month\"].str[5:].astype(\"int\")\n",
    "\n",
    "#Drop unnecessary rows -> \"year-month\" is not required once split into year and month\n",
    "df_rainfall.drop(\"year-month\", axis = 1, inplace = True)\n"
   ]
  },
  {
   "cell_type": "code",
   "execution_count": 8,
   "metadata": {},
   "outputs": [
    {
     "data": {
      "text/html": [
       "<div>\n",
       "<style scoped>\n",
       "    .dataframe tbody tr th:only-of-type {\n",
       "        vertical-align: middle;\n",
       "    }\n",
       "\n",
       "    .dataframe tbody tr th {\n",
       "        vertical-align: top;\n",
       "    }\n",
       "\n",
       "    .dataframe thead th {\n",
       "        text-align: right;\n",
       "    }\n",
       "</style>\n",
       "<table border=\"1\" class=\"dataframe\">\n",
       "  <thead>\n",
       "    <tr style=\"text-align: right;\">\n",
       "      <th></th>\n",
       "      <th>total_rainfall</th>\n",
       "      <th>year</th>\n",
       "      <th>month</th>\n",
       "    </tr>\n",
       "  </thead>\n",
       "  <tbody>\n",
       "    <tr>\n",
       "      <th>0</th>\n",
       "      <td>107.1</td>\n",
       "      <td>1982</td>\n",
       "      <td>1</td>\n",
       "    </tr>\n",
       "    <tr>\n",
       "      <th>1</th>\n",
       "      <td>27.8</td>\n",
       "      <td>1982</td>\n",
       "      <td>2</td>\n",
       "    </tr>\n",
       "    <tr>\n",
       "      <th>2</th>\n",
       "      <td>160.8</td>\n",
       "      <td>1982</td>\n",
       "      <td>3</td>\n",
       "    </tr>\n",
       "    <tr>\n",
       "      <th>3</th>\n",
       "      <td>157.0</td>\n",
       "      <td>1982</td>\n",
       "      <td>4</td>\n",
       "    </tr>\n",
       "    <tr>\n",
       "      <th>4</th>\n",
       "      <td>102.2</td>\n",
       "      <td>1982</td>\n",
       "      <td>5</td>\n",
       "    </tr>\n",
       "  </tbody>\n",
       "</table>\n",
       "</div>"
      ],
      "text/plain": [
       "   total_rainfall  year  month\n",
       "0           107.1  1982      1\n",
       "1            27.8  1982      2\n",
       "2           160.8  1982      3\n",
       "3           157.0  1982      4\n",
       "4           102.2  1982      5"
      ]
     },
     "execution_count": 8,
     "metadata": {},
     "output_type": "execute_result"
    }
   ],
   "source": [
    "df_rainfall.head(5)"
   ]
  },
  {
   "cell_type": "code",
   "execution_count": 9,
   "metadata": {},
   "outputs": [
    {
     "name": "stdout",
     "output_type": "stream",
     "text": [
      "<class 'pandas.core.frame.DataFrame'>\n",
      "RangeIndex: 488 entries, 0 to 487\n",
      "Data columns (total 3 columns):\n",
      " #   Column          Non-Null Count  Dtype  \n",
      "---  ------          --------------  -----  \n",
      " 0   total_rainfall  488 non-null    float64\n",
      " 1   year            488 non-null    int32  \n",
      " 2   month           488 non-null    int32  \n",
      "dtypes: float64(1), int32(2)\n",
      "memory usage: 7.8 KB\n"
     ]
    }
   ],
   "source": [
    "df_rainfall.info()"
   ]
  },
  {
   "cell_type": "code",
   "execution_count": 10,
   "metadata": {},
   "outputs": [
    {
     "data": {
      "text/html": [
       "<div>\n",
       "<style scoped>\n",
       "    .dataframe tbody tr th:only-of-type {\n",
       "        vertical-align: middle;\n",
       "    }\n",
       "\n",
       "    .dataframe tbody tr th {\n",
       "        vertical-align: top;\n",
       "    }\n",
       "\n",
       "    .dataframe thead th {\n",
       "        text-align: right;\n",
       "    }\n",
       "</style>\n",
       "<table border=\"1\" class=\"dataframe\">\n",
       "  <thead>\n",
       "    <tr style=\"text-align: right;\">\n",
       "      <th></th>\n",
       "      <th>wbt_date</th>\n",
       "      <th>wbt_time</th>\n",
       "      <th>wet_bulb_temperature</th>\n",
       "    </tr>\n",
       "  </thead>\n",
       "  <tbody>\n",
       "    <tr>\n",
       "      <th>187006</th>\n",
       "      <td>2003-05-02</td>\n",
       "      <td>23</td>\n",
       "      <td>26.4</td>\n",
       "    </tr>\n",
       "    <tr>\n",
       "      <th>333612</th>\n",
       "      <td>2020-01-22</td>\n",
       "      <td>13</td>\n",
       "      <td>25.3</td>\n",
       "    </tr>\n",
       "    <tr>\n",
       "      <th>142840</th>\n",
       "      <td>1998-04-18</td>\n",
       "      <td>17</td>\n",
       "      <td>27.1</td>\n",
       "    </tr>\n",
       "    <tr>\n",
       "      <th>133798</th>\n",
       "      <td>1997-04-06</td>\n",
       "      <td>23</td>\n",
       "      <td>25.8</td>\n",
       "    </tr>\n",
       "    <tr>\n",
       "      <th>170106</th>\n",
       "      <td>2001-05-28</td>\n",
       "      <td>19</td>\n",
       "      <td>26.0</td>\n",
       "    </tr>\n",
       "    <tr>\n",
       "      <th>54658</th>\n",
       "      <td>1988-03-27</td>\n",
       "      <td>11</td>\n",
       "      <td>25.6</td>\n",
       "    </tr>\n",
       "    <tr>\n",
       "      <th>209909</th>\n",
       "      <td>2005-12-12</td>\n",
       "      <td>6</td>\n",
       "      <td>24.6</td>\n",
       "    </tr>\n",
       "    <tr>\n",
       "      <th>179598</th>\n",
       "      <td>2002-06-28</td>\n",
       "      <td>7</td>\n",
       "      <td>26.5</td>\n",
       "    </tr>\n",
       "    <tr>\n",
       "      <th>45647</th>\n",
       "      <td>1987-03-17</td>\n",
       "      <td>24</td>\n",
       "      <td>25.2</td>\n",
       "    </tr>\n",
       "    <tr>\n",
       "      <th>356329</th>\n",
       "      <td>2022-08-26</td>\n",
       "      <td>2</td>\n",
       "      <td>25.4</td>\n",
       "    </tr>\n",
       "  </tbody>\n",
       "</table>\n",
       "</div>"
      ],
      "text/plain": [
       "          wbt_date  wbt_time  wet_bulb_temperature\n",
       "187006  2003-05-02        23                  26.4\n",
       "333612  2020-01-22        13                  25.3\n",
       "142840  1998-04-18        17                  27.1\n",
       "133798  1997-04-06        23                  25.8\n",
       "170106  2001-05-28        19                  26.0\n",
       "54658   1988-03-27        11                  25.6\n",
       "209909  2005-12-12         6                  24.6\n",
       "179598  2002-06-28         7                  26.5\n",
       "45647   1987-03-17        24                  25.2\n",
       "356329  2022-08-26         2                  25.4"
      ]
     },
     "execution_count": 10,
     "metadata": {},
     "output_type": "execute_result"
    }
   ],
   "source": [
    "df_wetbulb.sample(10)"
   ]
  },
  {
   "cell_type": "code",
   "execution_count": 11,
   "metadata": {},
   "outputs": [],
   "source": [
    "#Data Cleaning for WBT\n",
    "\n",
    "df_wetbulb[\"year\"] = df_wetbulb[\"wbt_date\"].str[:4].astype(\"int\")\n",
    "df_wetbulb[\"month\"] = df_wetbulb[\"wbt_date\"].str[5:7].astype(\"int\")\n",
    "df_wetbulb.drop([\"wbt_date\", \"wbt_time\"], axis = 1, inplace = True)\n",
    "df_wetbulb_group = df_wetbulb.groupby([\"year\", \"month\"])[\"wet_bulb_temperature\"].mean()\n",
    "df_wetbulb_month = df_wetbulb_group.to_frame()\n",
    "df_wetbulb_month.reset_index(inplace = True)\n"
   ]
  },
  {
   "cell_type": "code",
   "execution_count": 12,
   "metadata": {},
   "outputs": [
    {
     "data": {
      "text/html": [
       "<div>\n",
       "<style scoped>\n",
       "    .dataframe tbody tr th:only-of-type {\n",
       "        vertical-align: middle;\n",
       "    }\n",
       "\n",
       "    .dataframe tbody tr th {\n",
       "        vertical-align: top;\n",
       "    }\n",
       "\n",
       "    .dataframe thead th {\n",
       "        text-align: right;\n",
       "    }\n",
       "</style>\n",
       "<table border=\"1\" class=\"dataframe\">\n",
       "  <thead>\n",
       "    <tr style=\"text-align: right;\">\n",
       "      <th></th>\n",
       "      <th>year</th>\n",
       "      <th>month</th>\n",
       "      <th>wet_bulb_temperature</th>\n",
       "    </tr>\n",
       "  </thead>\n",
       "  <tbody>\n",
       "    <tr>\n",
       "      <th>64</th>\n",
       "      <td>1987</td>\n",
       "      <td>5</td>\n",
       "      <td>25.557661</td>\n",
       "    </tr>\n",
       "    <tr>\n",
       "      <th>395</th>\n",
       "      <td>2014</td>\n",
       "      <td>12</td>\n",
       "      <td>24.715457</td>\n",
       "    </tr>\n",
       "    <tr>\n",
       "      <th>257</th>\n",
       "      <td>2003</td>\n",
       "      <td>6</td>\n",
       "      <td>25.949167</td>\n",
       "    </tr>\n",
       "    <tr>\n",
       "      <th>3</th>\n",
       "      <td>1982</td>\n",
       "      <td>4</td>\n",
       "      <td>25.103750</td>\n",
       "    </tr>\n",
       "    <tr>\n",
       "      <th>122</th>\n",
       "      <td>1992</td>\n",
       "      <td>3</td>\n",
       "      <td>25.505780</td>\n",
       "    </tr>\n",
       "  </tbody>\n",
       "</table>\n",
       "</div>"
      ],
      "text/plain": [
       "     year  month  wet_bulb_temperature\n",
       "64   1987      5             25.557661\n",
       "395  2014     12             24.715457\n",
       "257  2003      6             25.949167\n",
       "3    1982      4             25.103750\n",
       "122  1992      3             25.505780"
      ]
     },
     "execution_count": 12,
     "metadata": {},
     "output_type": "execute_result"
    }
   ],
   "source": [
    "df_wetbulb_month.sample(5)"
   ]
  },
  {
   "cell_type": "code",
   "execution_count": 13,
   "metadata": {},
   "outputs": [
    {
     "name": "stdout",
     "output_type": "stream",
     "text": [
      "<class 'pandas.core.frame.DataFrame'>\n",
      "RangeIndex: 491 entries, 0 to 490\n",
      "Data columns (total 3 columns):\n",
      " #   Column                Non-Null Count  Dtype  \n",
      "---  ------                --------------  -----  \n",
      " 0   year                  491 non-null    int32  \n",
      " 1   month                 491 non-null    int32  \n",
      " 2   wet_bulb_temperature  491 non-null    float64\n",
      "dtypes: float64(1), int32(2)\n",
      "memory usage: 7.8 KB\n"
     ]
    }
   ],
   "source": [
    "df_wetbulb_month.info(5)"
   ]
  },
  {
   "cell_type": "code",
   "execution_count": 14,
   "metadata": {},
   "outputs": [],
   "source": [
    "#Merge Rainfall and WBT\n",
    "\n",
    "df_merged = pd.merge(df_rainfall, df_wetbulb_month, how = \"inner\", on = [\"year\", \"month\"])"
   ]
  },
  {
   "cell_type": "code",
   "execution_count": 15,
   "metadata": {},
   "outputs": [
    {
     "data": {
      "text/html": [
       "<div>\n",
       "<style scoped>\n",
       "    .dataframe tbody tr th:only-of-type {\n",
       "        vertical-align: middle;\n",
       "    }\n",
       "\n",
       "    .dataframe tbody tr th {\n",
       "        vertical-align: top;\n",
       "    }\n",
       "\n",
       "    .dataframe thead th {\n",
       "        text-align: right;\n",
       "    }\n",
       "</style>\n",
       "<table border=\"1\" class=\"dataframe\">\n",
       "  <thead>\n",
       "    <tr style=\"text-align: right;\">\n",
       "      <th></th>\n",
       "      <th>total_rainfall</th>\n",
       "      <th>year</th>\n",
       "      <th>month</th>\n",
       "      <th>wet_bulb_temperature</th>\n",
       "    </tr>\n",
       "  </thead>\n",
       "  <tbody>\n",
       "    <tr>\n",
       "      <th>154</th>\n",
       "      <td>322.2</td>\n",
       "      <td>1994</td>\n",
       "      <td>11</td>\n",
       "      <td>25.152639</td>\n",
       "    </tr>\n",
       "    <tr>\n",
       "      <th>353</th>\n",
       "      <td>213.0</td>\n",
       "      <td>2011</td>\n",
       "      <td>6</td>\n",
       "      <td>26.138750</td>\n",
       "    </tr>\n",
       "    <tr>\n",
       "      <th>325</th>\n",
       "      <td>201.8</td>\n",
       "      <td>2009</td>\n",
       "      <td>2</td>\n",
       "      <td>24.646280</td>\n",
       "    </tr>\n",
       "    <tr>\n",
       "      <th>274</th>\n",
       "      <td>166.2</td>\n",
       "      <td>2004</td>\n",
       "      <td>11</td>\n",
       "      <td>25.413750</td>\n",
       "    </tr>\n",
       "    <tr>\n",
       "      <th>125</th>\n",
       "      <td>162.8</td>\n",
       "      <td>1992</td>\n",
       "      <td>6</td>\n",
       "      <td>25.671667</td>\n",
       "    </tr>\n",
       "  </tbody>\n",
       "</table>\n",
       "</div>"
      ],
      "text/plain": [
       "     total_rainfall  year  month  wet_bulb_temperature\n",
       "154           322.2  1994     11             25.152639\n",
       "353           213.0  2011      6             26.138750\n",
       "325           201.8  2009      2             24.646280\n",
       "274           166.2  2004     11             25.413750\n",
       "125           162.8  1992      6             25.671667"
      ]
     },
     "execution_count": 15,
     "metadata": {},
     "output_type": "execute_result"
    }
   ],
   "source": [
    "df_merged.sample(5)"
   ]
  },
  {
   "cell_type": "code",
   "execution_count": 16,
   "metadata": {},
   "outputs": [
    {
     "name": "stdout",
     "output_type": "stream",
     "text": [
      "<class 'pandas.core.frame.DataFrame'>\n",
      "RangeIndex: 488 entries, 0 to 487\n",
      "Data columns (total 4 columns):\n",
      " #   Column                Non-Null Count  Dtype  \n",
      "---  ------                --------------  -----  \n",
      " 0   total_rainfall        488 non-null    float64\n",
      " 1   year                  488 non-null    int32  \n",
      " 2   month                 488 non-null    int32  \n",
      " 3   wet_bulb_temperature  488 non-null    float64\n",
      "dtypes: float64(2), int32(2)\n",
      "memory usage: 11.6 KB\n"
     ]
    }
   ],
   "source": [
    "df_merged.info(5)"
   ]
  },
  {
   "cell_type": "code",
   "execution_count": 17,
   "metadata": {},
   "outputs": [],
   "source": [
    "#Data Cleaning for Electricity Consumption\n",
    "\n",
    "df_elec = df_elec[df_elec[\"kwh_per_acc\"] != \"s\"]\n",
    "df_elec[\"kwh_per_acc\"] = df_elec[\"kwh_per_acc\"].astype(\"float\")\n",
    "df_elec = df_elec[df_elec[\"month\"] != \"Annual\"]\n",
    "df_elec[\"month\"] = df_elec[\"month\"].astype(\"int\")\n",
    "df_elec_group = df_elec.groupby([\"year\", \"month\"])[\"kwh_per_acc\"].mean()\n",
    "df_elec_month = df_elec_group.to_frame()\n",
    "df_elec_month.reset_index(inplace = True)"
   ]
  },
  {
   "cell_type": "code",
   "execution_count": 18,
   "metadata": {},
   "outputs": [
    {
     "data": {
      "text/html": [
       "<div>\n",
       "<style scoped>\n",
       "    .dataframe tbody tr th:only-of-type {\n",
       "        vertical-align: middle;\n",
       "    }\n",
       "\n",
       "    .dataframe tbody tr th {\n",
       "        vertical-align: top;\n",
       "    }\n",
       "\n",
       "    .dataframe thead th {\n",
       "        text-align: right;\n",
       "    }\n",
       "</style>\n",
       "<table border=\"1\" class=\"dataframe\">\n",
       "  <thead>\n",
       "    <tr style=\"text-align: right;\">\n",
       "      <th></th>\n",
       "      <th>year</th>\n",
       "      <th>month</th>\n",
       "      <th>kwh_per_acc</th>\n",
       "    </tr>\n",
       "  </thead>\n",
       "  <tbody>\n",
       "    <tr>\n",
       "      <th>4</th>\n",
       "      <td>2005</td>\n",
       "      <td>5</td>\n",
       "      <td>704.893600</td>\n",
       "    </tr>\n",
       "    <tr>\n",
       "      <th>194</th>\n",
       "      <td>2021</td>\n",
       "      <td>3</td>\n",
       "      <td>490.038889</td>\n",
       "    </tr>\n",
       "    <tr>\n",
       "      <th>140</th>\n",
       "      <td>2016</td>\n",
       "      <td>9</td>\n",
       "      <td>646.723875</td>\n",
       "    </tr>\n",
       "    <tr>\n",
       "      <th>99</th>\n",
       "      <td>2013</td>\n",
       "      <td>4</td>\n",
       "      <td>650.500781</td>\n",
       "    </tr>\n",
       "    <tr>\n",
       "      <th>121</th>\n",
       "      <td>2015</td>\n",
       "      <td>2</td>\n",
       "      <td>532.616142</td>\n",
       "    </tr>\n",
       "  </tbody>\n",
       "</table>\n",
       "</div>"
      ],
      "text/plain": [
       "     year  month  kwh_per_acc\n",
       "4    2005      5   704.893600\n",
       "194  2021      3   490.038889\n",
       "140  2016      9   646.723875\n",
       "99   2013      4   650.500781\n",
       "121  2015      2   532.616142"
      ]
     },
     "execution_count": 18,
     "metadata": {},
     "output_type": "execute_result"
    }
   ],
   "source": [
    "df_elec_month.sample(5)"
   ]
  },
  {
   "cell_type": "code",
   "execution_count": 19,
   "metadata": {},
   "outputs": [],
   "source": [
    "#Merge (Rainfall and WBT) and Electricity Consumption\n",
    "df_merged = pd.merge(df_merged, df_elec_month, how = \"left\", on = [\"year\", \"month\"])"
   ]
  },
  {
   "cell_type": "code",
   "execution_count": 20,
   "metadata": {},
   "outputs": [
    {
     "data": {
      "text/html": [
       "<div>\n",
       "<style scoped>\n",
       "    .dataframe tbody tr th:only-of-type {\n",
       "        vertical-align: middle;\n",
       "    }\n",
       "\n",
       "    .dataframe tbody tr th {\n",
       "        vertical-align: top;\n",
       "    }\n",
       "\n",
       "    .dataframe thead th {\n",
       "        text-align: right;\n",
       "    }\n",
       "</style>\n",
       "<table border=\"1\" class=\"dataframe\">\n",
       "  <thead>\n",
       "    <tr style=\"text-align: right;\">\n",
       "      <th></th>\n",
       "      <th>total_rainfall</th>\n",
       "      <th>year</th>\n",
       "      <th>month</th>\n",
       "      <th>wet_bulb_temperature</th>\n",
       "      <th>kwh_per_acc</th>\n",
       "    </tr>\n",
       "  </thead>\n",
       "  <tbody>\n",
       "    <tr>\n",
       "      <th>257</th>\n",
       "      <td>50.3</td>\n",
       "      <td>2003</td>\n",
       "      <td>6</td>\n",
       "      <td>25.949167</td>\n",
       "      <td>NaN</td>\n",
       "    </tr>\n",
       "    <tr>\n",
       "      <th>439</th>\n",
       "      <td>121.6</td>\n",
       "      <td>2018</td>\n",
       "      <td>8</td>\n",
       "      <td>25.324597</td>\n",
       "      <td>520.754167</td>\n",
       "    </tr>\n",
       "    <tr>\n",
       "      <th>218</th>\n",
       "      <td>238.3</td>\n",
       "      <td>2000</td>\n",
       "      <td>3</td>\n",
       "      <td>25.315188</td>\n",
       "      <td>NaN</td>\n",
       "    </tr>\n",
       "    <tr>\n",
       "      <th>156</th>\n",
       "      <td>349.4</td>\n",
       "      <td>1995</td>\n",
       "      <td>1</td>\n",
       "      <td>24.957796</td>\n",
       "      <td>NaN</td>\n",
       "    </tr>\n",
       "    <tr>\n",
       "      <th>195</th>\n",
       "      <td>187.7</td>\n",
       "      <td>1998</td>\n",
       "      <td>4</td>\n",
       "      <td>26.697222</td>\n",
       "      <td>NaN</td>\n",
       "    </tr>\n",
       "  </tbody>\n",
       "</table>\n",
       "</div>"
      ],
      "text/plain": [
       "     total_rainfall  year  month  wet_bulb_temperature  kwh_per_acc\n",
       "257            50.3  2003      6             25.949167          NaN\n",
       "439           121.6  2018      8             25.324597   520.754167\n",
       "218           238.3  2000      3             25.315188          NaN\n",
       "156           349.4  1995      1             24.957796          NaN\n",
       "195           187.7  1998      4             26.697222          NaN"
      ]
     },
     "execution_count": 20,
     "metadata": {},
     "output_type": "execute_result"
    }
   ],
   "source": [
    "df_merged.sample(5)"
   ]
  },
  {
   "cell_type": "code",
   "execution_count": 21,
   "metadata": {},
   "outputs": [
    {
     "name": "stdout",
     "output_type": "stream",
     "text": [
      "<class 'pandas.core.frame.DataFrame'>\n",
      "RangeIndex: 488 entries, 0 to 487\n",
      "Data columns (total 5 columns):\n",
      " #   Column                Non-Null Count  Dtype  \n",
      "---  ------                --------------  -----  \n",
      " 0   total_rainfall        488 non-null    float64\n",
      " 1   year                  488 non-null    int32  \n",
      " 2   month                 488 non-null    int32  \n",
      " 3   wet_bulb_temperature  488 non-null    float64\n",
      " 4   kwh_per_acc           210 non-null    float64\n",
      "dtypes: float64(3), int32(2)\n",
      "memory usage: 15.4 KB\n"
     ]
    }
   ],
   "source": [
    "df_merged.info(5)"
   ]
  },
  {
   "cell_type": "code",
   "execution_count": 22,
   "metadata": {},
   "outputs": [
    {
     "data": {
      "text/plain": [
       "Index(['year', 'price_electtariffs_inflatnadjusted_cent_per_kwh'], dtype='object')"
      ]
     },
     "execution_count": 22,
     "metadata": {},
     "output_type": "execute_result"
    }
   ],
   "source": [
    "df_tar.columns"
   ]
  },
  {
   "cell_type": "code",
   "execution_count": 23,
   "metadata": {},
   "outputs": [],
   "source": [
    "#Data Cleaning for Electricity Tariffs\n",
    "df_tar.columns = [\"year\", \"elec_tariffs\"]"
   ]
  },
  {
   "cell_type": "code",
   "execution_count": 24,
   "metadata": {},
   "outputs": [],
   "source": [
    "#Merge(Rainfall, WBT, Electricity Consumption) and Electricity Tariffs\n",
    "df_merged = pd.merge(df_merged, df_tar, how = \"left\", on = \"year\")"
   ]
  },
  {
   "cell_type": "code",
   "execution_count": 25,
   "metadata": {},
   "outputs": [
    {
     "data": {
      "text/html": [
       "<div>\n",
       "<style scoped>\n",
       "    .dataframe tbody tr th:only-of-type {\n",
       "        vertical-align: middle;\n",
       "    }\n",
       "\n",
       "    .dataframe tbody tr th {\n",
       "        vertical-align: top;\n",
       "    }\n",
       "\n",
       "    .dataframe thead th {\n",
       "        text-align: right;\n",
       "    }\n",
       "</style>\n",
       "<table border=\"1\" class=\"dataframe\">\n",
       "  <thead>\n",
       "    <tr style=\"text-align: right;\">\n",
       "      <th></th>\n",
       "      <th>total_rainfall</th>\n",
       "      <th>year</th>\n",
       "      <th>month</th>\n",
       "      <th>wet_bulb_temperature</th>\n",
       "      <th>kwh_per_acc</th>\n",
       "      <th>elec_tariffs</th>\n",
       "    </tr>\n",
       "  </thead>\n",
       "  <tbody>\n",
       "    <tr>\n",
       "      <th>455</th>\n",
       "      <td>421.5</td>\n",
       "      <td>2019</td>\n",
       "      <td>12</td>\n",
       "      <td>24.581317</td>\n",
       "      <td>484.844044</td>\n",
       "      <td>23.6</td>\n",
       "    </tr>\n",
       "    <tr>\n",
       "      <th>235</th>\n",
       "      <td>158.3</td>\n",
       "      <td>2001</td>\n",
       "      <td>8</td>\n",
       "      <td>25.804973</td>\n",
       "      <td>NaN</td>\n",
       "      <td>NaN</td>\n",
       "    </tr>\n",
       "    <tr>\n",
       "      <th>463</th>\n",
       "      <td>103.4</td>\n",
       "      <td>2020</td>\n",
       "      <td>8</td>\n",
       "      <td>25.113844</td>\n",
       "      <td>578.038674</td>\n",
       "      <td>22.1</td>\n",
       "    </tr>\n",
       "    <tr>\n",
       "      <th>315</th>\n",
       "      <td>87.2</td>\n",
       "      <td>2008</td>\n",
       "      <td>4</td>\n",
       "      <td>25.641806</td>\n",
       "      <td>627.896863</td>\n",
       "      <td>29.7</td>\n",
       "    </tr>\n",
       "    <tr>\n",
       "      <th>396</th>\n",
       "      <td>79.6</td>\n",
       "      <td>2015</td>\n",
       "      <td>1</td>\n",
       "      <td>23.837769</td>\n",
       "      <td>581.676772</td>\n",
       "      <td>22.8</td>\n",
       "    </tr>\n",
       "  </tbody>\n",
       "</table>\n",
       "</div>"
      ],
      "text/plain": [
       "     total_rainfall  year  month  wet_bulb_temperature  kwh_per_acc  \\\n",
       "455           421.5  2019     12             24.581317   484.844044   \n",
       "235           158.3  2001      8             25.804973          NaN   \n",
       "463           103.4  2020      8             25.113844   578.038674   \n",
       "315            87.2  2008      4             25.641806   627.896863   \n",
       "396            79.6  2015      1             23.837769   581.676772   \n",
       "\n",
       "     elec_tariffs  \n",
       "455          23.6  \n",
       "235           NaN  \n",
       "463          22.1  \n",
       "315          29.7  \n",
       "396          22.8  "
      ]
     },
     "execution_count": 25,
     "metadata": {},
     "output_type": "execute_result"
    }
   ],
   "source": [
    "df_merged.sample(5)"
   ]
  },
  {
   "cell_type": "code",
   "execution_count": 26,
   "metadata": {},
   "outputs": [
    {
     "name": "stdout",
     "output_type": "stream",
     "text": [
      "<class 'pandas.core.frame.DataFrame'>\n",
      "RangeIndex: 488 entries, 0 to 487\n",
      "Data columns (total 6 columns):\n",
      " #   Column                Non-Null Count  Dtype  \n",
      "---  ------                --------------  -----  \n",
      " 0   total_rainfall        488 non-null    float64\n",
      " 1   year                  488 non-null    int32  \n",
      " 2   month                 488 non-null    int32  \n",
      " 3   wet_bulb_temperature  488 non-null    float64\n",
      " 4   kwh_per_acc           210 non-null    float64\n",
      " 5   elec_tariffs          212 non-null    float64\n",
      "dtypes: float64(4), int32(2)\n",
      "memory usage: 19.2 KB\n"
     ]
    }
   ],
   "source": [
    "df_merged.info(5)"
   ]
  },
  {
   "cell_type": "code",
   "execution_count": 27,
   "metadata": {},
   "outputs": [
    {
     "name": "stdout",
     "output_type": "stream",
     "text": [
      "<class 'pandas.core.frame.DataFrame'>\n",
      "RangeIndex: 488 entries, 0 to 487\n",
      "Data columns (total 2 columns):\n",
      " #   Column            Non-Null Count  Dtype \n",
      "---  ------            --------------  ----- \n",
      " 0   month             488 non-null    object\n",
      " 1   no_of_rainy_days  488 non-null    int64 \n",
      "dtypes: int64(1), object(1)\n",
      "memory usage: 7.8+ KB\n"
     ]
    }
   ],
   "source": [
    "df_raindays.info()"
   ]
  },
  {
   "cell_type": "code",
   "execution_count": 28,
   "metadata": {},
   "outputs": [
    {
     "data": {
      "text/html": [
       "<div>\n",
       "<style scoped>\n",
       "    .dataframe tbody tr th:only-of-type {\n",
       "        vertical-align: middle;\n",
       "    }\n",
       "\n",
       "    .dataframe tbody tr th {\n",
       "        vertical-align: top;\n",
       "    }\n",
       "\n",
       "    .dataframe thead th {\n",
       "        text-align: right;\n",
       "    }\n",
       "</style>\n",
       "<table border=\"1\" class=\"dataframe\">\n",
       "  <thead>\n",
       "    <tr style=\"text-align: right;\">\n",
       "      <th></th>\n",
       "      <th>month</th>\n",
       "      <th>no_of_rainy_days</th>\n",
       "    </tr>\n",
       "  </thead>\n",
       "  <tbody>\n",
       "    <tr>\n",
       "      <th>426</th>\n",
       "      <td>2017-07</td>\n",
       "      <td>9</td>\n",
       "    </tr>\n",
       "    <tr>\n",
       "      <th>477</th>\n",
       "      <td>2021-10</td>\n",
       "      <td>14</td>\n",
       "    </tr>\n",
       "    <tr>\n",
       "      <th>252</th>\n",
       "      <td>2003-01</td>\n",
       "      <td>20</td>\n",
       "    </tr>\n",
       "    <tr>\n",
       "      <th>394</th>\n",
       "      <td>2014-11</td>\n",
       "      <td>23</td>\n",
       "    </tr>\n",
       "    <tr>\n",
       "      <th>76</th>\n",
       "      <td>1988-05</td>\n",
       "      <td>14</td>\n",
       "    </tr>\n",
       "  </tbody>\n",
       "</table>\n",
       "</div>"
      ],
      "text/plain": [
       "       month  no_of_rainy_days\n",
       "426  2017-07                 9\n",
       "477  2021-10                14\n",
       "252  2003-01                20\n",
       "394  2014-11                23\n",
       "76   1988-05                14"
      ]
     },
     "execution_count": 28,
     "metadata": {},
     "output_type": "execute_result"
    }
   ],
   "source": [
    "df_raindays.sample(5)"
   ]
  },
  {
   "cell_type": "code",
   "execution_count": 29,
   "metadata": {},
   "outputs": [],
   "source": [
    "#Data Cleaning for Number of Rainy Days\n",
    "df_raindays.columns = [\"year-month\", \"rainy_days\"]\n",
    "df_raindays[\"year\"] = df_raindays[\"year-month\"].str[:4].astype(\"int\")\n",
    "df_raindays[\"month\"] = df_raindays[\"year-month\"].str[5:].astype(\"int\")\n",
    "df_raindays.drop(\"year-month\", axis = 1, inplace = True)"
   ]
  },
  {
   "cell_type": "code",
   "execution_count": 30,
   "metadata": {},
   "outputs": [],
   "source": [
    "df_merged = pd.merge(df_merged, df_raindays, how = \"left\", on = [\"year\", \"month\"])"
   ]
  },
  {
   "cell_type": "code",
   "execution_count": 31,
   "metadata": {},
   "outputs": [
    {
     "data": {
      "text/html": [
       "<div>\n",
       "<style scoped>\n",
       "    .dataframe tbody tr th:only-of-type {\n",
       "        vertical-align: middle;\n",
       "    }\n",
       "\n",
       "    .dataframe tbody tr th {\n",
       "        vertical-align: top;\n",
       "    }\n",
       "\n",
       "    .dataframe thead th {\n",
       "        text-align: right;\n",
       "    }\n",
       "</style>\n",
       "<table border=\"1\" class=\"dataframe\">\n",
       "  <thead>\n",
       "    <tr style=\"text-align: right;\">\n",
       "      <th></th>\n",
       "      <th>total_rainfall</th>\n",
       "      <th>year</th>\n",
       "      <th>month</th>\n",
       "      <th>wet_bulb_temperature</th>\n",
       "      <th>kwh_per_acc</th>\n",
       "      <th>elec_tariffs</th>\n",
       "      <th>rainy_days</th>\n",
       "    </tr>\n",
       "  </thead>\n",
       "  <tbody>\n",
       "    <tr>\n",
       "      <th>388</th>\n",
       "      <td>125.8</td>\n",
       "      <td>2014</td>\n",
       "      <td>5</td>\n",
       "      <td>25.811425</td>\n",
       "      <td>687.205814</td>\n",
       "      <td>27.0</td>\n",
       "      <td>18</td>\n",
       "    </tr>\n",
       "    <tr>\n",
       "      <th>335</th>\n",
       "      <td>189.8</td>\n",
       "      <td>2009</td>\n",
       "      <td>12</td>\n",
       "      <td>25.261694</td>\n",
       "      <td>638.931641</td>\n",
       "      <td>23.9</td>\n",
       "      <td>18</td>\n",
       "    </tr>\n",
       "    <tr>\n",
       "      <th>67</th>\n",
       "      <td>191.9</td>\n",
       "      <td>1987</td>\n",
       "      <td>8</td>\n",
       "      <td>25.204839</td>\n",
       "      <td>NaN</td>\n",
       "      <td>NaN</td>\n",
       "      <td>16</td>\n",
       "    </tr>\n",
       "    <tr>\n",
       "      <th>184</th>\n",
       "      <td>41.6</td>\n",
       "      <td>1997</td>\n",
       "      <td>5</td>\n",
       "      <td>26.157527</td>\n",
       "      <td>NaN</td>\n",
       "      <td>NaN</td>\n",
       "      <td>6</td>\n",
       "    </tr>\n",
       "    <tr>\n",
       "      <th>456</th>\n",
       "      <td>88.4</td>\n",
       "      <td>2020</td>\n",
       "      <td>1</td>\n",
       "      <td>24.690726</td>\n",
       "      <td>475.424654</td>\n",
       "      <td>22.1</td>\n",
       "      <td>6</td>\n",
       "    </tr>\n",
       "  </tbody>\n",
       "</table>\n",
       "</div>"
      ],
      "text/plain": [
       "     total_rainfall  year  month  wet_bulb_temperature  kwh_per_acc  \\\n",
       "388           125.8  2014      5             25.811425   687.205814   \n",
       "335           189.8  2009     12             25.261694   638.931641   \n",
       "67            191.9  1987      8             25.204839          NaN   \n",
       "184            41.6  1997      5             26.157527          NaN   \n",
       "456            88.4  2020      1             24.690726   475.424654   \n",
       "\n",
       "     elec_tariffs  rainy_days  \n",
       "388          27.0          18  \n",
       "335          23.9          18  \n",
       "67            NaN          16  \n",
       "184           NaN           6  \n",
       "456          22.1           6  "
      ]
     },
     "execution_count": 31,
     "metadata": {},
     "output_type": "execute_result"
    }
   ],
   "source": [
    "df_merged.sample(5)"
   ]
  },
  {
   "cell_type": "code",
   "execution_count": 32,
   "metadata": {},
   "outputs": [
    {
     "name": "stdout",
     "output_type": "stream",
     "text": [
      "<class 'pandas.core.frame.DataFrame'>\n",
      "RangeIndex: 488 entries, 0 to 487\n",
      "Data columns (total 7 columns):\n",
      " #   Column                Non-Null Count  Dtype  \n",
      "---  ------                --------------  -----  \n",
      " 0   total_rainfall        488 non-null    float64\n",
      " 1   year                  488 non-null    int32  \n",
      " 2   month                 488 non-null    int32  \n",
      " 3   wet_bulb_temperature  488 non-null    float64\n",
      " 4   kwh_per_acc           210 non-null    float64\n",
      " 5   elec_tariffs          212 non-null    float64\n",
      " 6   rainy_days            488 non-null    int64  \n",
      "dtypes: float64(4), int32(2), int64(1)\n",
      "memory usage: 23.0 KB\n"
     ]
    }
   ],
   "source": [
    "df_merged.info(5)"
   ]
  },
  {
   "cell_type": "code",
   "execution_count": 33,
   "metadata": {},
   "outputs": [],
   "source": [
    "df_merged.to_csv(\"../data/output_df_merged.csv\")"
   ]
  },
  {
   "cell_type": "markdown",
   "metadata": {},
   "source": [
    "### Data Dictionary\n",
    "\n",
    "Now that we've fixed our data, and given it appropriate names, let's create a [data dictionary](http://library.ucmerced.edu/node/10249). \n",
    "\n",
    "A data dictionary provides a quick overview of features/variables/columns, alongside data types and descriptions. The more descriptive you can be, the more useful this document is.\n",
    "\n",
    "[Here's a quick link to a short guide for formatting markdown in Jupyter notebooks](https://jupyter-notebook.readthedocs.io/en/stable/examples/Notebook/Working%20With%20Markdown%20Cells.html).\n",
    "\n",
    "Provided is the skeleton for formatting a markdown table, with columns headers that will help you create a data dictionary to quickly summarize your data, as well as some examples. **This would be a great thing to copy and paste into your custom README for this project.**\n",
    "\n",
    "*Note*: if you are unsure of what a feature is, check the source of the data! This can be found in the README."
   ]
  },
  {
   "cell_type": "markdown",
   "metadata": {},
   "source": [
    "|Feature|Type|Dataset|Description|\n",
    "|---|---|---|---|\n",
    "|**year**|*integer*|rainfall-monthly-total|Year| \n",
    "|**month**|*integer*|rainfall-monthly-total|Month|\n",
    "|**total rainfall**|*float*|rainfall-monthly-total|The monthly total rainfall recorded at the Changi Climate Station in mm(millimeters)|\n",
    "|**rainy_days**|*float*|rainfall-monthly-total|The number of rain days (day with rainfall amount of 0.2mm or more) in a month recorded at the Changi Climate Station.|\n",
    "|**wet bulb temperature**|*float*|wet-bulb-temperature-hourly|Average of the hourly wet bulb temperature recorded at the Changi Climate Station in degree Celsius|\n",
    "|**kwh_per_acc**|*float*|T3.5 - Average Monthly Household Electricity Consumption by Planning Area & Dwelling Type|Average Annual Household Electricity Consumption in kilowatt hours|\n",
    "|**dwelling_type**|*string*|T3.5 - Average Monthly Household Electricity Consumption by Planning Area & Dwelling Type|Type of dwelling units (e.g. 3-room flat)|\n",
    "|**elect_tariffs**|*float*|T5.1 - Electricity Tariffs|Annual electricity tariffs (weighted average) in cents/kWh|\n",
    "|**household_income**|*float*|average-houshold-size-and-income|Average household income|\n",
    "|**household_size**|*float*|average-houshold-size-and-income|Average household size|\n"
   ]
  },
  {
   "cell_type": "code",
   "execution_count": null,
   "metadata": {},
   "outputs": [],
   "source": []
  },
  {
   "cell_type": "markdown",
   "metadata": {},
   "source": [
    "## Exploratory Data Analysis\n",
    "\n",
    "Complete the following steps to explore your data. You are welcome to do more EDA than the steps outlined here as you feel necessary:\n",
    "1. Summary Statistics.\n",
    "2. Use a **dictionary comprehension** to apply the standard deviation function you create in part 1 to each numeric column in the dataframe.  **No loops**.\n",
    "    - Assign the output to variable `sd` as a dictionary where: \n",
    "        - Each column name is now a key \n",
    "        - That standard deviation of the column is the value \n",
    "        - *Example Output :* `{'rainfall-monthly-total': xxx, 'no_of_rainy_days': xxx, ...}`\n",
    "3. Investigate trends in the data.\n",
    "    - Using sorting and/or masking (along with the `.head()` method to avoid printing our entire dataframe), consider questions relevant to your problem statement. Some examples are provided below (but feel free to change these questions for your specific problem):\n",
    "        - Which month have the highest and lowest total rainfall in 1990, 2000, 2010 and 2020?\n",
    "        - Which year have the highest and lowest total rainfall in the date range of analysis?\n",
    "        - Which month have the highest and lowest number of rainy days in 1990, 2000, 2010 and 2020?\n",
    "        - Which year have the highest and lowest number of rainy days in the date range of analysis?\n",
    "        - Are there any outliers months in the dataset?\n",
    "       \n",
    "    - **The above 5 questions are compulsory. Feel free to explore other trends based on the datasets that you have choosen for analysis. You should comment on your findings at each step in a markdown cell below your code block**. Make sure you include at least one example of sorting your dataframe by a column, and one example of using boolean filtering (i.e., masking) to select a subset of the dataframe."
   ]
  },
  {
   "cell_type": "code",
   "execution_count": 34,
   "metadata": {},
   "outputs": [
    {
     "data": {
      "text/html": [
       "<div>\n",
       "<style scoped>\n",
       "    .dataframe tbody tr th:only-of-type {\n",
       "        vertical-align: middle;\n",
       "    }\n",
       "\n",
       "    .dataframe tbody tr th {\n",
       "        vertical-align: top;\n",
       "    }\n",
       "\n",
       "    .dataframe thead th {\n",
       "        text-align: right;\n",
       "    }\n",
       "</style>\n",
       "<table border=\"1\" class=\"dataframe\">\n",
       "  <thead>\n",
       "    <tr style=\"text-align: right;\">\n",
       "      <th></th>\n",
       "      <th>total_rainfall</th>\n",
       "      <th>year</th>\n",
       "      <th>month</th>\n",
       "      <th>wet_bulb_temperature</th>\n",
       "      <th>kwh_per_acc</th>\n",
       "      <th>elec_tariffs</th>\n",
       "      <th>rainy_days</th>\n",
       "    </tr>\n",
       "  </thead>\n",
       "  <tbody>\n",
       "    <tr>\n",
       "      <th>count</th>\n",
       "      <td>488.000000</td>\n",
       "      <td>488.000000</td>\n",
       "      <td>488.000000</td>\n",
       "      <td>488.000000</td>\n",
       "      <td>210.000000</td>\n",
       "      <td>212.000000</td>\n",
       "      <td>488.000000</td>\n",
       "    </tr>\n",
       "    <tr>\n",
       "      <th>mean</th>\n",
       "      <td>177.163730</td>\n",
       "      <td>2001.836066</td>\n",
       "      <td>6.467213</td>\n",
       "      <td>25.258198</td>\n",
       "      <td>621.530859</td>\n",
       "      <td>25.013208</td>\n",
       "      <td>14.061475</td>\n",
       "    </tr>\n",
       "    <tr>\n",
       "      <th>std</th>\n",
       "      <td>113.916029</td>\n",
       "      <td>11.752660</td>\n",
       "      <td>3.449095</td>\n",
       "      <td>0.593979</td>\n",
       "      <td>68.921434</td>\n",
       "      <td>3.083977</td>\n",
       "      <td>4.947394</td>\n",
       "    </tr>\n",
       "    <tr>\n",
       "      <th>min</th>\n",
       "      <td>0.200000</td>\n",
       "      <td>1982.000000</td>\n",
       "      <td>1.000000</td>\n",
       "      <td>23.391129</td>\n",
       "      <td>452.457735</td>\n",
       "      <td>19.700000</td>\n",
       "      <td>1.000000</td>\n",
       "    </tr>\n",
       "    <tr>\n",
       "      <th>25%</th>\n",
       "      <td>93.850000</td>\n",
       "      <td>1992.000000</td>\n",
       "      <td>3.000000</td>\n",
       "      <td>24.925235</td>\n",
       "      <td>569.048627</td>\n",
       "      <td>22.600000</td>\n",
       "      <td>11.000000</td>\n",
       "    </tr>\n",
       "    <tr>\n",
       "      <th>50%</th>\n",
       "      <td>159.450000</td>\n",
       "      <td>2002.000000</td>\n",
       "      <td>6.000000</td>\n",
       "      <td>25.290793</td>\n",
       "      <td>635.541667</td>\n",
       "      <td>23.900000</td>\n",
       "      <td>14.000000</td>\n",
       "    </tr>\n",
       "    <tr>\n",
       "      <th>75%</th>\n",
       "      <td>238.075000</td>\n",
       "      <td>2012.000000</td>\n",
       "      <td>9.000000</td>\n",
       "      <td>25.645094</td>\n",
       "      <td>680.243715</td>\n",
       "      <td>27.000000</td>\n",
       "      <td>18.000000</td>\n",
       "    </tr>\n",
       "    <tr>\n",
       "      <th>max</th>\n",
       "      <td>765.900000</td>\n",
       "      <td>2022.000000</td>\n",
       "      <td>12.000000</td>\n",
       "      <td>26.913978</td>\n",
       "      <td>769.929396</td>\n",
       "      <td>30.600000</td>\n",
       "      <td>27.000000</td>\n",
       "    </tr>\n",
       "  </tbody>\n",
       "</table>\n",
       "</div>"
      ],
      "text/plain": [
       "       total_rainfall         year       month  wet_bulb_temperature  \\\n",
       "count      488.000000   488.000000  488.000000            488.000000   \n",
       "mean       177.163730  2001.836066    6.467213             25.258198   \n",
       "std        113.916029    11.752660    3.449095              0.593979   \n",
       "min          0.200000  1982.000000    1.000000             23.391129   \n",
       "25%         93.850000  1992.000000    3.000000             24.925235   \n",
       "50%        159.450000  2002.000000    6.000000             25.290793   \n",
       "75%        238.075000  2012.000000    9.000000             25.645094   \n",
       "max        765.900000  2022.000000   12.000000             26.913978   \n",
       "\n",
       "       kwh_per_acc  elec_tariffs  rainy_days  \n",
       "count   210.000000    212.000000  488.000000  \n",
       "mean    621.530859     25.013208   14.061475  \n",
       "std      68.921434      3.083977    4.947394  \n",
       "min     452.457735     19.700000    1.000000  \n",
       "25%     569.048627     22.600000   11.000000  \n",
       "50%     635.541667     23.900000   14.000000  \n",
       "75%     680.243715     27.000000   18.000000  \n",
       "max     769.929396     30.600000   27.000000  "
      ]
     },
     "execution_count": 34,
     "metadata": {},
     "output_type": "execute_result"
    }
   ],
   "source": [
    "# 1) Summary Statistics\n",
    "\n",
    "df_merged.describe()"
   ]
  },
  {
   "cell_type": "code",
   "execution_count": 35,
   "metadata": {},
   "outputs": [
    {
     "data": {
      "text/plain": [
       "{'total_rainfall': 113.92,\n",
       " 'wet_bulb_temperature': 0.59,\n",
       " 'kwh_per_acc': nan,\n",
       " 'elec_tariffs': nan}"
      ]
     },
     "execution_count": 35,
     "metadata": {},
     "output_type": "execute_result"
    }
   ],
   "source": [
    "# Use a dictionary comprehension to apply the standard deviation function you create in part 1 to each numeric column in the dataframe. No loops.\n",
    "\n",
    "sd = dict(df_merged.select_dtypes(include=['float']).apply(std_dev_this).round(2))\n",
    "sd"
   ]
  },
  {
   "cell_type": "code",
   "execution_count": 36,
   "metadata": {},
   "outputs": [
    {
     "data": {
      "text/plain": [
       "year\n",
       "1990    204.5\n",
       "2000    385.7\n",
       "2010    298.5\n",
       "2020    255.6\n",
       "Name: total_rainfall, dtype: float64"
      ]
     },
     "execution_count": 36,
     "metadata": {},
     "output_type": "execute_result"
    }
   ],
   "source": [
    "# 3a) Which month have the highest and lowest total rainfall in 1990, 2000, 2010 and 2020?\n",
    "\n",
    "year_selection = [1990,2000,2010,2020]\n",
    "\n",
    "df_merged_q3a = df_merged.loc[df_merged[\"year\"].isin(year_selection)]\n",
    "df_merged_q3a.groupby(\"year\")[\"total_rainfall\"].max()\n"
   ]
  },
  {
   "cell_type": "code",
   "execution_count": 37,
   "metadata": {},
   "outputs": [
    {
     "name": "stdout",
     "output_type": "stream",
     "text": [
      "2006 had the highest total rainfall, while 2014 had the lowest total rainfall \n"
     ]
    }
   ],
   "source": [
    "# 3b) Which year have the highest and lowest total rainfall in the date range of analysis?\n",
    "\n",
    "q3b_high = int(df_merged.loc[df_merged[\"total_rainfall\"].idxmax()][\"year\"])\n",
    "q3b_low = int(df_merged.loc[df_merged[\"total_rainfall\"].idxmin()][\"year\"])\n",
    "\n",
    "print(f\"{q3b_high} had the highest total rainfall, while {q3b_low} had the lowest total rainfall \")"
   ]
  },
  {
   "cell_type": "code",
   "execution_count": 38,
   "metadata": {},
   "outputs": [
    {
     "data": {
      "text/html": [
       "<div>\n",
       "<style scoped>\n",
       "    .dataframe tbody tr th:only-of-type {\n",
       "        vertical-align: middle;\n",
       "    }\n",
       "\n",
       "    .dataframe tbody tr th {\n",
       "        vertical-align: top;\n",
       "    }\n",
       "\n",
       "    .dataframe thead th {\n",
       "        text-align: right;\n",
       "    }\n",
       "</style>\n",
       "<table border=\"1\" class=\"dataframe\">\n",
       "  <thead>\n",
       "    <tr style=\"text-align: right;\">\n",
       "      <th></th>\n",
       "      <th>year</th>\n",
       "      <th>month</th>\n",
       "      <th>rainy_days</th>\n",
       "    </tr>\n",
       "  </thead>\n",
       "  <tbody>\n",
       "    <tr>\n",
       "      <th>0</th>\n",
       "      <td>1990</td>\n",
       "      <td>9</td>\n",
       "      <td>17</td>\n",
       "    </tr>\n",
       "    <tr>\n",
       "      <th>1</th>\n",
       "      <td>1990</td>\n",
       "      <td>11</td>\n",
       "      <td>17</td>\n",
       "    </tr>\n",
       "    <tr>\n",
       "      <th>2</th>\n",
       "      <td>2000</td>\n",
       "      <td>11</td>\n",
       "      <td>21</td>\n",
       "    </tr>\n",
       "    <tr>\n",
       "      <th>3</th>\n",
       "      <td>2010</td>\n",
       "      <td>11</td>\n",
       "      <td>21</td>\n",
       "    </tr>\n",
       "    <tr>\n",
       "      <th>4</th>\n",
       "      <td>2020</td>\n",
       "      <td>7</td>\n",
       "      <td>22</td>\n",
       "    </tr>\n",
       "  </tbody>\n",
       "</table>\n",
       "</div>"
      ],
      "text/plain": [
       "   year  month  rainy_days\n",
       "0  1990      9          17\n",
       "1  1990     11          17\n",
       "2  2000     11          21\n",
       "3  2010     11          21\n",
       "4  2020      7          22"
      ]
     },
     "execution_count": 38,
     "metadata": {},
     "output_type": "execute_result"
    }
   ],
   "source": [
    "# 3c) Which month have the highest and lowest number of rainy days in 1990, 2000, 2010 and 2020?\n",
    "\n",
    "year_selection = [1990,2000,2010,2020]\n",
    "\n",
    "df_merged_q3a = df_merged.loc[df_merged[\"year\"].isin(year_selection)]\n",
    "#df_merged.loc[df_merged_q3a.groupby([\"year\"])[\"rainy_days\"].idxmax()][[\"year\", \"month\"]]\n",
    "\n",
    "q3a_max = df_merged_q3a.groupby([\"year\"])[\"rainy_days\"].max()\n",
    "q3a_max = q3a_max.to_frame()\n",
    "q3a_max.reset_index(inplace = True)\n",
    "\n",
    "pd.merge(df_merged, q3a_max, how = \"inner\", on = [\"year\", \"rainy_days\"])[[\"year\", \"month\", \"rainy_days\"]]\n"
   ]
  },
  {
   "cell_type": "code",
   "execution_count": 39,
   "metadata": {},
   "outputs": [
    {
     "name": "stdout",
     "output_type": "stream",
     "text": [
      "2018 had the highest number of rainy days, while 2014 had the lowest total rainfall \n"
     ]
    }
   ],
   "source": [
    "# 3d) Which year have the highest and lowest number of rainy days in the date range of analysis?\n",
    "\n",
    "q3d_high = int(df_merged.loc[df_merged[\"rainy_days\"].idxmax()][\"year\"])\n",
    "q3d_low = int(df_merged.loc[df_merged[\"rainy_days\"].idxmin()][\"year\"])\n",
    "\n",
    "print(f\"{q3d_high} had the highest number of rainy days, while {q3d_low} had the lowest total rainfall \")"
   ]
  },
  {
   "cell_type": "code",
   "execution_count": 40,
   "metadata": {},
   "outputs": [
    {
     "name": "stdout",
     "output_type": "stream",
     "text": [
      "Any monthly rainfall that is below -122 and above 454 is an outlier\n"
     ]
    },
    {
     "data": {
      "text/html": [
       "<div>\n",
       "<style scoped>\n",
       "    .dataframe tbody tr th:only-of-type {\n",
       "        vertical-align: middle;\n",
       "    }\n",
       "\n",
       "    .dataframe tbody tr th {\n",
       "        vertical-align: top;\n",
       "    }\n",
       "\n",
       "    .dataframe thead th {\n",
       "        text-align: right;\n",
       "    }\n",
       "</style>\n",
       "<table border=\"1\" class=\"dataframe\">\n",
       "  <thead>\n",
       "    <tr style=\"text-align: right;\">\n",
       "      <th></th>\n",
       "      <th>year</th>\n",
       "      <th>month</th>\n",
       "      <th>total_rainfall</th>\n",
       "    </tr>\n",
       "  </thead>\n",
       "  <tbody>\n",
       "    <tr>\n",
       "      <th>11</th>\n",
       "      <td>1982</td>\n",
       "      <td>12</td>\n",
       "      <td>494.1</td>\n",
       "    </tr>\n",
       "    <tr>\n",
       "      <th>25</th>\n",
       "      <td>1984</td>\n",
       "      <td>2</td>\n",
       "      <td>470.4</td>\n",
       "    </tr>\n",
       "    <tr>\n",
       "      <th>60</th>\n",
       "      <td>1987</td>\n",
       "      <td>1</td>\n",
       "      <td>568.6</td>\n",
       "    </tr>\n",
       "    <tr>\n",
       "      <th>94</th>\n",
       "      <td>1989</td>\n",
       "      <td>11</td>\n",
       "      <td>508.4</td>\n",
       "    </tr>\n",
       "    <tr>\n",
       "      <th>119</th>\n",
       "      <td>1991</td>\n",
       "      <td>12</td>\n",
       "      <td>492.3</td>\n",
       "    </tr>\n",
       "    <tr>\n",
       "      <th>130</th>\n",
       "      <td>1992</td>\n",
       "      <td>11</td>\n",
       "      <td>474.3</td>\n",
       "    </tr>\n",
       "    <tr>\n",
       "      <th>131</th>\n",
       "      <td>1992</td>\n",
       "      <td>12</td>\n",
       "      <td>502.7</td>\n",
       "    </tr>\n",
       "    <tr>\n",
       "      <th>203</th>\n",
       "      <td>1998</td>\n",
       "      <td>12</td>\n",
       "      <td>463.4</td>\n",
       "    </tr>\n",
       "    <tr>\n",
       "      <th>239</th>\n",
       "      <td>2001</td>\n",
       "      <td>12</td>\n",
       "      <td>609.0</td>\n",
       "    </tr>\n",
       "    <tr>\n",
       "      <th>264</th>\n",
       "      <td>2004</td>\n",
       "      <td>1</td>\n",
       "      <td>600.9</td>\n",
       "    </tr>\n",
       "    <tr>\n",
       "      <th>299</th>\n",
       "      <td>2006</td>\n",
       "      <td>12</td>\n",
       "      <td>765.9</td>\n",
       "    </tr>\n",
       "    <tr>\n",
       "      <th>311</th>\n",
       "      <td>2007</td>\n",
       "      <td>12</td>\n",
       "      <td>468.6</td>\n",
       "    </tr>\n",
       "    <tr>\n",
       "      <th>348</th>\n",
       "      <td>2011</td>\n",
       "      <td>1</td>\n",
       "      <td>513.2</td>\n",
       "    </tr>\n",
       "    <tr>\n",
       "      <th>468</th>\n",
       "      <td>2021</td>\n",
       "      <td>1</td>\n",
       "      <td>692.8</td>\n",
       "    </tr>\n",
       "  </tbody>\n",
       "</table>\n",
       "</div>"
      ],
      "text/plain": [
       "     year  month  total_rainfall\n",
       "11   1982     12           494.1\n",
       "25   1984      2           470.4\n",
       "60   1987      1           568.6\n",
       "94   1989     11           508.4\n",
       "119  1991     12           492.3\n",
       "130  1992     11           474.3\n",
       "131  1992     12           502.7\n",
       "203  1998     12           463.4\n",
       "239  2001     12           609.0\n",
       "264  2004      1           600.9\n",
       "299  2006     12           765.9\n",
       "311  2007     12           468.6\n",
       "348  2011      1           513.2\n",
       "468  2021      1           692.8"
      ]
     },
     "execution_count": 40,
     "metadata": {},
     "output_type": "execute_result"
    }
   ],
   "source": [
    "# 3e) Are there any outliers months in the dataset?\n",
    "\n",
    "rainfall_q75, rainfall_q25 = np.percentile(df_merged[\"total_rainfall\"], [75 ,25])\n",
    "rainfall_iqr = rainfall_q75 - rainfall_q25\n",
    "rainfall_high = rainfall_q75 + (1.5 * rainfall_iqr)\n",
    "rainfall_low = rainfall_q25 - (1.5 * rainfall_iqr)\n",
    "\n",
    "rainfall_outlier = []\n",
    "\n",
    "for rainfall in df_merged[\"total_rainfall\"]:\n",
    "    if rainfall > rainfall_high or rainfall < rainfall_low:\n",
    "        rainfall_outlier.append(rainfall)\n",
    "\n",
    "print(f\"Any monthly rainfall that is below {int(rainfall_low)} and above {int(rainfall_high)} is an outlier\")\n",
    "\n",
    "df_merged[df_merged[\"total_rainfall\"].isin(rainfall_outlier)][[\"year\",\"month\",\"total_rainfall\"]]"
   ]
  },
  {
   "cell_type": "markdown",
   "metadata": {},
   "source": [
    "**To-Do:** *Edit this cell with your findings on trends in the data (step 3 above).*"
   ]
  },
  {
   "cell_type": "markdown",
   "metadata": {},
   "source": [
    "## Visualize the Data\n",
    "\n",
    "There's not a magic bullet recommendation for the right number of plots to understand a given dataset, but visualizing your data is *always* a good idea. Not only does it allow you to quickly convey your findings (even if you have a non-technical audience), it will often reveal trends in your data that escaped you when you were looking only at numbers. It is important to not only create visualizations, but to **interpret your visualizations** as well.\n",
    "\n",
    "**Every plot should**:\n",
    "- Have a title\n",
    "- Have axis labels\n",
    "- Have appropriate tick labels\n",
    "- Text is legible in a plot\n",
    "- Plots demonstrate meaningful and valid relationships\n",
    "- Have an interpretation to aid understanding\n",
    "\n",
    "Here is an example of what your plots should look like following the above guidelines. Note that while the content of this example is unrelated, the principles of visualization hold:\n",
    "\n",
    "![](https://snag.gy/hCBR1U.jpg)\n",
    "*Interpretation: The above image shows that as we increase our spending on advertising, our sales numbers also tend to increase. There is a positive correlation between advertising spending and sales.*\n",
    "\n",
    "---\n",
    "\n",
    "Here are some prompts to get you started with visualizations. Feel free to add additional visualizations as you see fit:\n",
    "1. Use Seaborn's heatmap with pandas `.corr()` to visualize correlations between all numeric features.\n",
    "    - Heatmaps are generally not appropriate for presentations, and should often be excluded from reports as they can be visually overwhelming. **However**, they can be extremely useful in identify relationships of potential interest (as well as identifying potential collinearity before modeling).\n",
    "    - Please take time to format your output, adding a title. Look through some of the additional arguments and options. (Axis labels aren't really necessary, as long as the title is informative).\n",
    "2. Visualize distributions using histograms. If you have a lot, consider writing a custom function and use subplots.\n",
    "    - *OPTIONAL*: Summarize the underlying distributions of your features (in words & statistics)\n",
    "         - Be thorough in your verbal description of these distributions.\n",
    "         - Be sure to back up these summaries with statistics.\n",
    "         - We generally assume that data we sample from a population will be normally distributed. Do we observe this trend? Explain your answers for each distribution and how you think this will affect estimates made from these data.\n",
    "3. Plot and interpret boxplots. \n",
    "    - Boxplots demonstrate central tendency and spread in variables. In a certain sense, these are somewhat redundant with histograms, but you may be better able to identify clear outliers or differences in IQR, etc.\n",
    "    - Multiple values can be plotted to a single boxplot as long as they are of the same relative scale (meaning they have similar min/max values).\n",
    "    - Each boxplot should:\n",
    "        - Only include variables of a similar scale\n",
    "        - Have clear labels for each variable\n",
    "        - Have appropriate titles and labels\n",
    "4. Plot and interpret scatter plots to view relationships between features. Feel free to write a custom function, and subplot if you'd like. Functions save both time and space.\n",
    "    - Your plots should have:\n",
    "        - Two clearly labeled axes\n",
    "        - A proper title\n",
    "        - Colors and symbols that are clear and unmistakable\n",
    "5. Additional plots of your choosing.\n",
    "    - Are there any additional trends or relationships you haven't explored? Was there something interesting you saw that you'd like to dive further into? It's likely that there are a few more plots you might want to generate to support your narrative and recommendations that you are building toward. **As always, make sure you're interpreting your plots as you go**."
   ]
  },
  {
   "cell_type": "markdown",
   "metadata": {},
   "source": [
    "Some ideas for plots that can be generated:\n",
    "\n",
    "- Plot the histogram of the rainfall data with various bins and comment on the distribution of the data - is it centered, skewed?\n",
    "- Plot the box-and-whiskers plot. Comment on the different quartiles and identify any outliers in the dataset. \n",
    "- Is there a correlation between the number of rainy days and total rainfall in the month? What kind of correlation do your suspect? Does the graph show the same?\n"
   ]
  },
  {
   "cell_type": "code",
   "execution_count": 41,
   "metadata": {},
   "outputs": [
    {
     "data": {
      "text/html": [
       "<div>\n",
       "<style scoped>\n",
       "    .dataframe tbody tr th:only-of-type {\n",
       "        vertical-align: middle;\n",
       "    }\n",
       "\n",
       "    .dataframe tbody tr th {\n",
       "        vertical-align: top;\n",
       "    }\n",
       "\n",
       "    .dataframe thead th {\n",
       "        text-align: right;\n",
       "    }\n",
       "</style>\n",
       "<table border=\"1\" class=\"dataframe\">\n",
       "  <thead>\n",
       "    <tr style=\"text-align: right;\">\n",
       "      <th></th>\n",
       "      <th>total_rainfall</th>\n",
       "      <th>year</th>\n",
       "      <th>month</th>\n",
       "      <th>wet_bulb_temperature</th>\n",
       "      <th>kwh_per_acc</th>\n",
       "      <th>elec_tariffs</th>\n",
       "      <th>rainy_days</th>\n",
       "    </tr>\n",
       "  </thead>\n",
       "  <tbody>\n",
       "    <tr>\n",
       "      <th>total_rainfall</th>\n",
       "      <td>1.000000</td>\n",
       "      <td>-0.021424</td>\n",
       "      <td>0.221258</td>\n",
       "      <td>-0.184258</td>\n",
       "      <td>0.058359</td>\n",
       "      <td>0.123523</td>\n",
       "      <td>0.684252</td>\n",
       "    </tr>\n",
       "    <tr>\n",
       "      <th>year</th>\n",
       "      <td>-0.021424</td>\n",
       "      <td>1.000000</td>\n",
       "      <td>-0.016343</td>\n",
       "      <td>0.099199</td>\n",
       "      <td>-0.663137</td>\n",
       "      <td>-0.421059</td>\n",
       "      <td>0.092628</td>\n",
       "    </tr>\n",
       "    <tr>\n",
       "      <th>month</th>\n",
       "      <td>0.221258</td>\n",
       "      <td>-0.016343</td>\n",
       "      <td>1.000000</td>\n",
       "      <td>0.056597</td>\n",
       "      <td>0.272412</td>\n",
       "      <td>-0.005616</td>\n",
       "      <td>0.403960</td>\n",
       "    </tr>\n",
       "    <tr>\n",
       "      <th>wet_bulb_temperature</th>\n",
       "      <td>-0.184258</td>\n",
       "      <td>0.099199</td>\n",
       "      <td>0.056597</td>\n",
       "      <td>1.000000</td>\n",
       "      <td>0.537563</td>\n",
       "      <td>0.104808</td>\n",
       "      <td>0.009288</td>\n",
       "    </tr>\n",
       "    <tr>\n",
       "      <th>kwh_per_acc</th>\n",
       "      <td>0.058359</td>\n",
       "      <td>-0.663137</td>\n",
       "      <td>0.272412</td>\n",
       "      <td>0.537563</td>\n",
       "      <td>1.000000</td>\n",
       "      <td>0.336273</td>\n",
       "      <td>0.188591</td>\n",
       "    </tr>\n",
       "    <tr>\n",
       "      <th>elec_tariffs</th>\n",
       "      <td>0.123523</td>\n",
       "      <td>-0.421059</td>\n",
       "      <td>-0.005616</td>\n",
       "      <td>0.104808</td>\n",
       "      <td>0.336273</td>\n",
       "      <td>1.000000</td>\n",
       "      <td>0.075583</td>\n",
       "    </tr>\n",
       "    <tr>\n",
       "      <th>rainy_days</th>\n",
       "      <td>0.684252</td>\n",
       "      <td>0.092628</td>\n",
       "      <td>0.403960</td>\n",
       "      <td>0.009288</td>\n",
       "      <td>0.188591</td>\n",
       "      <td>0.075583</td>\n",
       "      <td>1.000000</td>\n",
       "    </tr>\n",
       "  </tbody>\n",
       "</table>\n",
       "</div>"
      ],
      "text/plain": [
       "                      total_rainfall      year     month  \\\n",
       "total_rainfall              1.000000 -0.021424  0.221258   \n",
       "year                       -0.021424  1.000000 -0.016343   \n",
       "month                       0.221258 -0.016343  1.000000   \n",
       "wet_bulb_temperature       -0.184258  0.099199  0.056597   \n",
       "kwh_per_acc                 0.058359 -0.663137  0.272412   \n",
       "elec_tariffs                0.123523 -0.421059 -0.005616   \n",
       "rainy_days                  0.684252  0.092628  0.403960   \n",
       "\n",
       "                      wet_bulb_temperature  kwh_per_acc  elec_tariffs  \\\n",
       "total_rainfall                   -0.184258     0.058359      0.123523   \n",
       "year                              0.099199    -0.663137     -0.421059   \n",
       "month                             0.056597     0.272412     -0.005616   \n",
       "wet_bulb_temperature              1.000000     0.537563      0.104808   \n",
       "kwh_per_acc                       0.537563     1.000000      0.336273   \n",
       "elec_tariffs                      0.104808     0.336273      1.000000   \n",
       "rainy_days                        0.009288     0.188591      0.075583   \n",
       "\n",
       "                      rainy_days  \n",
       "total_rainfall          0.684252  \n",
       "year                    0.092628  \n",
       "month                   0.403960  \n",
       "wet_bulb_temperature    0.009288  \n",
       "kwh_per_acc             0.188591  \n",
       "elec_tariffs            0.075583  \n",
       "rainy_days              1.000000  "
      ]
     },
     "execution_count": 41,
     "metadata": {},
     "output_type": "execute_result"
    }
   ],
   "source": [
    "df_merged.corr()"
   ]
  },
  {
   "cell_type": "code",
   "execution_count": 42,
   "metadata": {},
   "outputs": [
    {
     "data": {
      "text/plain": [
       "[Text(0.5, 1.0, 'Correlation of Climate vs Electricity Consumption')]"
      ]
     },
     "execution_count": 42,
     "metadata": {},
     "output_type": "execute_result"
    },
    {
     "data": {
      "image/png": "[encoded data removed]",
      "text/plain": [
       "<Figure size 640x480 with 2 Axes>"
      ]
     },
     "metadata": {},
     "output_type": "display_data"
    }
   ],
   "source": [
    "# Correlation of Climate vs Electricity Consumption\n",
    "\n",
    "sns.heatmap(df_merged.corr(), annot = True, annot_kws={\"size\":8}, fmt=\".1f\").set(title=\"Correlation of Climate vs Electricity Consumption\")\n",
    "\n",
    "# It is observed that the electricity consumption (kwh per acc) is moderately correlated (r = 0.5) with wet bulb temperature."
   ]
  },
  {
   "cell_type": "code",
   "execution_count": 43,
   "metadata": {},
   "outputs": [
    {
     "data": {
      "text/html": [
       "<div>\n",
       "<style scoped>\n",
       "    .dataframe tbody tr th:only-of-type {\n",
       "        vertical-align: middle;\n",
       "    }\n",
       "\n",
       "    .dataframe tbody tr th {\n",
       "        vertical-align: top;\n",
       "    }\n",
       "\n",
       "    .dataframe thead th {\n",
       "        text-align: right;\n",
       "    }\n",
       "</style>\n",
       "<table border=\"1\" class=\"dataframe\">\n",
       "  <thead>\n",
       "    <tr style=\"text-align: right;\">\n",
       "      <th></th>\n",
       "      <th>total_rainfall</th>\n",
       "      <th>year</th>\n",
       "      <th>month</th>\n",
       "      <th>wet_bulb_temperature</th>\n",
       "      <th>kwh_per_acc</th>\n",
       "      <th>elec_tariffs</th>\n",
       "      <th>rainy_days</th>\n",
       "    </tr>\n",
       "  </thead>\n",
       "  <tbody>\n",
       "    <tr>\n",
       "      <th>5</th>\n",
       "      <td>59.5</td>\n",
       "      <td>1982</td>\n",
       "      <td>6</td>\n",
       "      <td>25.729306</td>\n",
       "      <td>NaN</td>\n",
       "      <td>NaN</td>\n",
       "      <td>8</td>\n",
       "    </tr>\n",
       "    <tr>\n",
       "      <th>203</th>\n",
       "      <td>463.4</td>\n",
       "      <td>1998</td>\n",
       "      <td>12</td>\n",
       "      <td>25.085081</td>\n",
       "      <td>NaN</td>\n",
       "      <td>NaN</td>\n",
       "      <td>22</td>\n",
       "    </tr>\n",
       "    <tr>\n",
       "      <th>454</th>\n",
       "      <td>137.4</td>\n",
       "      <td>2019</td>\n",
       "      <td>11</td>\n",
       "      <td>25.128194</td>\n",
       "      <td>530.844875</td>\n",
       "      <td>23.6</td>\n",
       "      <td>15</td>\n",
       "    </tr>\n",
       "    <tr>\n",
       "      <th>89</th>\n",
       "      <td>117.6</td>\n",
       "      <td>1989</td>\n",
       "      <td>6</td>\n",
       "      <td>25.196111</td>\n",
       "      <td>NaN</td>\n",
       "      <td>NaN</td>\n",
       "      <td>12</td>\n",
       "    </tr>\n",
       "    <tr>\n",
       "      <th>306</th>\n",
       "      <td>141.7</td>\n",
       "      <td>2007</td>\n",
       "      <td>7</td>\n",
       "      <td>25.697581</td>\n",
       "      <td>722.703543</td>\n",
       "      <td>24.9</td>\n",
       "      <td>19</td>\n",
       "    </tr>\n",
       "  </tbody>\n",
       "</table>\n",
       "</div>"
      ],
      "text/plain": [
       "     total_rainfall  year  month  wet_bulb_temperature  kwh_per_acc  \\\n",
       "5              59.5  1982      6             25.729306          NaN   \n",
       "203           463.4  1998     12             25.085081          NaN   \n",
       "454           137.4  2019     11             25.128194   530.844875   \n",
       "89            117.6  1989      6             25.196111          NaN   \n",
       "306           141.7  2007      7             25.697581   722.703543   \n",
       "\n",
       "     elec_tariffs  rainy_days  \n",
       "5             NaN           8  \n",
       "203           NaN          22  \n",
       "454          23.6          15  \n",
       "89            NaN          12  \n",
       "306          24.9          19  "
      ]
     },
     "execution_count": 43,
     "metadata": {},
     "output_type": "execute_result"
    }
   ],
   "source": [
    "df_merged.sample(5)"
   ]
  },
  {
   "cell_type": "code",
   "execution_count": 44,
   "metadata": {},
   "outputs": [],
   "source": [
    "# Clean and merge in humidity data\n",
    "\n",
    "df_humidity.columns = [\"year-month\", \"humidity\"]\n",
    "df_humidity[\"year\"] = df_humidity[\"year-month\"].str[:4].astype(\"int\")\n",
    "df_humidity[\"month\"] = df_humidity[\"year-month\"].str[5:].astype(\"int\")\n",
    "df_humidity.drop(\"year-month\", axis = 1, inplace = True)\n",
    "\n",
    "df_merged = pd.merge(df_merged, df_humidity, how = \"inner\", on = [\"year\", \"month\"])"
   ]
  },
  {
   "cell_type": "code",
   "execution_count": 45,
   "metadata": {},
   "outputs": [],
   "source": [
    "# Clean and merge in surface air temperature data\n",
    "\n",
    "df_airtemp.columns = [\"year-month\", \"airtemp\"]\n",
    "df_airtemp[\"year\"] = df_airtemp[\"year-month\"].str[:4].astype(\"int\")\n",
    "df_airtemp[\"month\"] = df_airtemp[\"year-month\"].str[5:].astype(\"int\")\n",
    "df_airtemp.drop(\"year-month\", axis = 1, inplace = True)\n",
    "\n",
    "df_merged = pd.merge(df_merged, df_airtemp, how = \"inner\", on = [\"year\", \"month\"])"
   ]
  },
  {
   "cell_type": "code",
   "execution_count": 46,
   "metadata": {},
   "outputs": [
    {
     "data": {
      "text/plain": [
       "<Axes: xlabel='humidity', ylabel='airtemp'>"
      ]
     },
     "execution_count": 46,
     "metadata": {},
     "output_type": "execute_result"
    },
    {
     "data": {
      "image/png": "[encoded data removed]",
      "text/plain": [
       "<Figure size 640x480 with 1 Axes>"
      ]
     },
     "metadata": {},
     "output_type": "display_data"
    }
   ],
   "source": [
    "# Scatterplot of Surface Air Temperture (y) vs Humidity (x) vs Wet Bulb Temperature (hue)\n",
    "\n",
    "sns.scatterplot(data = df_merged, x = \"humidity\", y = \"airtemp\", hue = \"wet_bulb_temperature\", palette = \"rocket_r\")\n",
    "\n",
    "# It is observed that with higher humidity and surface air temperature, wet bulb temperature increases"
   ]
  },
  {
   "cell_type": "code",
   "execution_count": 47,
   "metadata": {},
   "outputs": [],
   "source": [
    "#Data Cleaning on Electricity Consumption to group it by Year, Month, and Dwelling Type\n",
    "\n",
    "df_elec_dt = df_elec.groupby([\"year\", \"month\",\"dwelling_type\"])[\"kwh_per_acc\"].mean().to_frame()\n",
    "df_elec_dt.reset_index(inplace = True)\n",
    "\n",
    "df_elec_dt = df_elec_dt[ df_elec_dt[\"dwelling_type\"].isin([\"1-room / 2-room\", \"3-room\", \"4-room\", \"5-room and Executive\", \"Private Apartments and Condominiums\", \"Landed Properties\"]) ]"
   ]
  },
  {
   "cell_type": "code",
   "execution_count": 48,
   "metadata": {},
   "outputs": [
    {
     "data": {
      "text/plain": [
       "[Text(0.5, 0, 'Dwelling Type'),\n",
       " Text(0, 0.5, 'Average Household Electricity Consumption (kWh)')]"
      ]
     },
     "execution_count": 48,
     "metadata": {},
     "output_type": "execute_result"
    },
    {
     "data": {
      "image/png": "[encoded data removed]",
      "text/plain": [
       "<Figure size 640x480 with 1 Axes>"
      ]
     },
     "metadata": {},
     "output_type": "display_data"
    }
   ],
   "source": [
    "# Boxplot of Electricity Consumption by Dwelling Type\n",
    "elec_sns = sns.boxplot(data = df_elec_dt, x = \"dwelling_type\", y = \"kwh_per_acc\", order = [\"1-room / 2-room\", \"3-room\", \"4-room\", \"5-room and Executive\", \"Private Apartments and Condominiums\", \"Landed Properties\"])\n",
    "elec_sns.tick_params(axis='x', labelrotation=90)\n",
    "elec_sns.set(xlabel='Dwelling Type', ylabel='Average Household Electricity Consumption (kWh)')\n",
    "\n",
    "#It is observed that electrcitiy consumption is higher when the dwelling type is larger."
   ]
  },
  {
   "cell_type": "code",
   "execution_count": 49,
   "metadata": {},
   "outputs": [],
   "source": [
    "# Import \n",
    "df_size_income = pd.read_csv(\"../data/average-houshold-size-and-income.csv\", sep = \";\")\n",
    "\n",
    "# Focus on 2022 data only.\n",
    "df_elec_dt_2022 = df_elec_dt[ df_elec_dt[\"year\"] == 2022 ]\n",
    "df_elec_dt_2022 = df_elec_dt_2022.groupby([\"year\",\"dwelling_type\"])[\"kwh_per_acc\"].mean().to_frame()\n",
    "df_elec_dt_2022.reset_index(inplace = True)\n",
    "\n",
    "# Merge in average household size and income\n",
    "df_elec_dt_2022 = pd.merge(df_elec_dt_2022, df_size_income, how = \"left\", on = \"dwelling_type\" )\n",
    "\n",
    "# Extrac 2022 tariffs and calculate electricity cost\n",
    "tar_2022 = df_tar.loc[ df_tar[\"year\"] == 2022, \"elec_tariffs\"]\n",
    "tar_2022 = tar_2022/100\n",
    "tar_2022.tolist()\n",
    "df_elec_dt_2022[\"elec_cost\"] = df_elec_dt_2022[\"kwh_per_acc\"].apply(lambda x: x * tar_2022)\n",
    "df_elec_dt_2022[\"elec_use_pax\"] = df_elec_dt_2022[\"kwh_per_acc\"] / df_elec_dt_2022[\"household_size\"]\n",
    "df_elec_dt_2022[\"elec_cost_pax\"] = df_elec_dt_2022[\"elec_use_pax\"].apply(lambda x: x * tar_2022)\n",
    "df_elec_dt_2022[\"household_income_pax\"] = df_elec_dt_2022[\"household_income\"] / df_elec_dt_2022[\"household_size\"]\n",
    "df_elec_dt_2022[\"elec_cost_income\"] = df_elec_dt_2022[\"elec_cost_pax\"] / df_elec_dt_2022[\"household_income_pax\"]"
   ]
  },
  {
   "cell_type": "code",
   "execution_count": 50,
   "metadata": {},
   "outputs": [
    {
     "data": {
      "text/plain": [
       "[Text(0.5, 0, 'Dwelling Type'),\n",
       " Text(0, 0.5, 'Average Electricity Consumption per Person (kWh)')]"
      ]
     },
     "execution_count": 50,
     "metadata": {},
     "output_type": "execute_result"
    },
    {
     "data": {
      "image/png": "[encoded data removed]",
      "text/plain": [
       "<Figure size 640x480 with 1 Axes>"
      ]
     },
     "metadata": {},
     "output_type": "display_data"
    }
   ],
   "source": [
    "# Bar plot of average electricity consumption per person by dwelling type\n",
    "avg_elec_pax_sns = sns.barplot(x = df_elec_dt_2022[\"elec_use_pax\"], y=df_elec_dt_2022[\"dwelling_type\"], orient=\"h\", order = [\"1-room / 2-room\", \"3-room\", \"4-room\", \"5-room and Executive\", \"Private Apartments and Condominiums\", \"Landed Properties\"])\n",
    "avg_elec_pax_sns.set(xlabel='Dwelling Type', ylabel='Average Electricity Consumption per Person (kWh)')\n",
    "\n",
    "# It is observed that households staying in larger dwelling types consume more electricity even after adjusting for average household size"
   ]
  },
  {
   "cell_type": "code",
   "execution_count": 51,
   "metadata": {},
   "outputs": [
    {
     "data": {
      "text/plain": [
       "[Text(0.5, 0, 'Dwelling Type'),\n",
       " Text(0, 0.5, 'Average Electricity Cost per Person (kWh)')]"
      ]
     },
     "execution_count": 51,
     "metadata": {},
     "output_type": "execute_result"
    },
    {
     "data": {
      "image/png": "[encoded data removed]",
      "text/plain": [
       "<Figure size 640x480 with 1 Axes>"
      ]
     },
     "metadata": {},
     "output_type": "display_data"
    }
   ],
   "source": [
    "# Bar plot of average electricity cost per person by dwelling type\n",
    "avg_elec_pax_sns = sns.barplot(x = df_elec_dt_2022[\"elec_cost_pax\"], y=df_elec_dt_2022[\"dwelling_type\"], orient=\"h\", order = [\"1-room / 2-room\", \"3-room\", \"4-room\", \"5-room and Executive\", \"Private Apartments and Condominiums\", \"Landed Properties\"])\n",
    "avg_elec_pax_sns.set(xlabel='Dwelling Type', ylabel='Average Electricity Cost per Person (kWh)')\n",
    "\n",
    "# Electricity cost per person ranges from $22 in 1-2 rooms flat to $72 in landed properties."
   ]
  },
  {
   "cell_type": "code",
   "execution_count": 52,
   "metadata": {},
   "outputs": [
    {
     "data": {
      "text/plain": [
       "[Text(0.5, 0, 'Dwelling Type'),\n",
       " Text(0, 0.5, 'Proportion of Electricity Cost over Income (%)')]"
      ]
     },
     "execution_count": 52,
     "metadata": {},
     "output_type": "execute_result"
    },
    {
     "data": {
      "image/png": "[encoded data removed]",
      "text/plain": [
       "<Figure size 640x480 with 1 Axes>"
      ]
     },
     "metadata": {},
     "output_type": "display_data"
    }
   ],
   "source": [
    "# Bar plot of average electricity cost per person by dwelling type\n",
    "avg_elec_pax_sns = sns.barplot(x = df_elec_dt_2022[\"elec_cost_income\"], y=df_elec_dt_2022[\"dwelling_type\"], orient=\"h\", order = [\"1-room / 2-room\", \"3-room\", \"4-room\", \"5-room and Executive\", \"Private Apartments and Condominiums\", \"Landed Properties\"])\n",
    "avg_elec_pax_sns.set(xlabel='Dwelling Type', ylabel='Proportion of Electricity Cost over Income (%)')\n",
    "\n",
    "# It is observed that except landed properties, electricity cost is a higher % of their income for those staying in smaller dwelling units. \n",
    "# The \"outlier\" in landed properties may be because the \"income\" used here is solely based from work done, and exclude income from other sources. \n",
    "# Those staying in landed properties is likely to have more income from other sources like investments."
   ]
  },
  {
   "cell_type": "markdown",
   "metadata": {},
   "source": [
    "## Conclusions and Recommendations"
   ]
  },
  {
   "cell_type": "markdown",
   "metadata": {},
   "source": [
    "Based on your exploration of the data, what are you key takeaways and recommendations? Make sure to answer your question of interest or address your problem statement here."
   ]
  },
  {
   "cell_type": "markdown",
   "metadata": {},
   "source": [
    "### Conclusion\n",
    "\n",
    "Climate change causes rising temperatures (surface air) and rainfall, leading to higher wet bulb temperature.\n",
    "With increasing wet bulb temperature, household electricity consumption is expected to increase with the increased use of air conditioning and fans.\n",
    "It is also found that electricity cost is a higher proportion of income for those staying in smaller dwelling units despite using less electricity.\n",
    "\n",
    "Therefore, we expect climate change to disproportionally impact those staying in smaller dwelling in terms of electricity cost.\n",
    "\n",
    "### Recommendations\n",
    "A three-pronged approach is recommended:\n",
    "1. To mitgate climate change, long term policies are recommended (e.g. to reduce waste).\n",
    "2. Electricity tariffs can be scaled such that those who consume more electricity should be charged a higher tariffs.\n",
    "3. Provide subsidies directly to those staying in smaller dwelling units (1-3 room flats) "
   ]
  },
  {
   "cell_type": "markdown",
   "metadata": {},
   "source": [
    "Don't forget to create your README!\n",
    "\n",
    "**To-Do:** *If you combine your problem statement, data dictionary, brief summary of your analysis, and conclusions/recommendations, you have an amazing README.md file that quickly aligns your audience to the contents of your project.* Don't forget to cite your data sources!"
   ]
  }
 ],
 "metadata": {
  "anaconda-cloud": {},
  "kernelspec": {
   "display_name": "Python 3 (ipykernel)",
   "language": "python",
   "name": "python3"
  },
  "language_info": {
   "codemirror_mode": {
    "name": "ipython",
    "version": 3
   },
   "file_extension": ".py",
   "mimetype": "text/x-python",
   "name": "python",
   "nbconvert_exporter": "python",
   "pygments_lexer": "ipython3",
   "version": "3.11.3"
  }
 },
 "nbformat": 4,
 "nbformat_minor": 4
}

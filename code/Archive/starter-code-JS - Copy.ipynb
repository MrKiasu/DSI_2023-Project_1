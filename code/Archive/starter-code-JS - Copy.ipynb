{
 "cells": [
  {
   "cell_type": "markdown",
   "metadata": {},
   "source": [
    "<img src=\"http://imgur.com/1ZcRyrc.png\" style=\"float: left; margin: 20px; height: 55px\">\n",
    "\n",
    "# Project 1: Data Analysis of Singapore Rainfall"
   ]
  },
  {
   "cell_type": "markdown",
   "metadata": {},
   "source": [
    "--- \n",
    "# Part 1\n",
    "\n",
    "Part 1 requires knowledge of basic Python.\n",
    "\n",
    "---"
   ]
  },
  {
   "cell_type": "markdown",
   "metadata": {},
   "source": [
    "### Contents:\n",
    "- [Background](#Background)\n",
    "- [Data Import & Cleaning](#Data-Import-and-Cleaning)\n",
    "- [Exploratory Data Analysis](#Exploratory-Data-Analysis)\n",
    "- [Data Visualization](#Visualize-the-Data)\n",
    "- [Conclusions and Recommendations](#Conclusions-and-Recommendations)"
   ]
  },
  {
   "cell_type": "markdown",
   "metadata": {},
   "source": [
    "## Background"
   ]
  },
  {
   "cell_type": "markdown",
   "metadata": {},
   "source": [
    "According to the [Meteorological Services Singapore](http://www.weather.gov.sg/climate-climate-of-singapore/#:~:text=Singapore%20is%20situated%20near%20the,month%2Dto%2Dmonth%20variation.), Singapore has typical tropical climate with adundant rainfall, high and uniform temperatures and high humidity all year round, since its situated near the equator. There are many factors that help us understand the climate of a country and in this project we are going to look into a few, especially rainfall.\n",
    "\n",
    "Singapore’s climate is characterised by two main monsoon seasons separated by inter-monsoonal periods.  The **Northeast Monsoon** occurs from December to early March, and the **Southwest Monsoon** from June to September.\n",
    "\n",
    "The major weather systems affecting Singapore that can lead to heavy rainfall are:\n",
    "\n",
    "-Monsoon surges, or strong wind episodes in the Northeast Monsoon flow bringing about major rainfall events;\n",
    "\n",
    "-Sumatra squalls, an organised line of thunderstorms travelling eastward across Singapore, having developed over the island of Sumatra or Straits of Malacca west of us;\n",
    "\n",
    "-Afternoon and evening thunderstorms caused by strong surface heating and by the sea breeze circulation that develops in the afternoon.\n",
    "\n",
    "Singapore’s climate station has been located at several different sites in the past 140 years. The station had been decommissioned at various points in the past due to changes to local land use in the site’s vicinity, and had to be relocated. Since 1984, the climate station has been located at **Changi**.\n",
    "\n",
    "There are other metrics of climate such as temperature, humidity, sun shine duration, wind speed, cloud cover etc. All the dataset used in the project comes from [data.gov.sg](data.gov.sg), as recorded at the Changi climate station \n"
   ]
  },
  {
   "cell_type": "markdown",
   "metadata": {},
   "source": [
    "### Choose your Data\n",
    "\n",
    "There are 2 datasets included in the [`data`](./data/) folder for this project. These correponds to rainfall information. \n",
    "\n",
    "* [`rainfall-monthly-number-of-rain-days.csv`](./data/rainfall-monthly-number-of-rain-days.csv): Monthly number of rain days from 1982 to 2022. A day is considered to have “rained” if the total rainfall for that day is 0.2mm or more.\n",
    "* [`rainfall-monthly-total.csv`](./data/rainfall-monthly-total.csv): Monthly total rain recorded in mm(millimeters) from 1982 to 2022\n",
    "\n",
    "Other relevant weather datasets from [data.gov.sg](data.gov.sg) that you can download and use are as follows:\n",
    "\n",
    "* [Relative Humidity](https://data.gov.sg/dataset/relative-humidity-monthly-mean)\n",
    "* [Monthly Maximum Daily Rainfall](https://data.gov.sg/dataset/rainfall-monthly-maximum-daily-total)\n",
    "* [Hourly wet buld temperature](https://data.gov.sg/dataset/wet-bulb-temperature-hourly)\n",
    "* [Monthly mean sunshine hours](https://data.gov.sg/dataset/sunshine-duration-monthly-mean-daily-duration)\n",
    "* [Surface Air Temperature](https://data.gov.sg/dataset/surface-air-temperature-mean-daily-minimum)\n",
    "\n",
    "You can also use other datasets for your analysis, make sure to cite the source when you are using them"
   ]
  },
  {
   "cell_type": "markdown",
   "metadata": {},
   "source": [
    "**To-Do:** *Fill out this cell with the datasets you will use for your analysis. Write a brief description of the contents for each dataset that you choose.*"
   ]
  },
  {
   "cell_type": "markdown",
   "metadata": {},
   "source": [
    "## Problem Statement"
   ]
  },
  {
   "cell_type": "markdown",
   "metadata": {},
   "source": [
    "Impact of Climate Change on Workforce"
   ]
  },
  {
   "cell_type": "markdown",
   "metadata": {},
   "source": [
    "Decide on your problem statement that will guide your analysis for this project. For guidelines, sample prompts, or inspiration, check out the README.\n"
   ]
  },
  {
   "cell_type": "markdown",
   "metadata": {},
   "source": [
    "Rainfall affects daily activities of Singapore population, hence it is worth analysing rainfall data to identify trends "
   ]
  },
  {
   "cell_type": "markdown",
   "metadata": {},
   "source": [
    "### Outside Research"
   ]
  },
  {
   "cell_type": "markdown",
   "metadata": {},
   "source": [
    "Based on your problem statement and your chosen datasets, spend some time doing outside research on how climate change is affecting different industries or additional information that might be relevant. Summarize your findings below. If you bring in any outside tables or charts, make sure you are explicit about having borrowed them. If you quote any text, make sure that it renders as being quoted. **Make sure that you cite your sources.**"
   ]
  },
  {
   "cell_type": "markdown",
   "metadata": {},
   "source": [
    "**To-Do:** *Fill out this cell with outside research or any additional background information that will support your analysis.*"
   ]
  },
  {
   "cell_type": "markdown",
   "metadata": {},
   "source": []
  },
  {
   "cell_type": "markdown",
   "metadata": {},
   "source": [
    "### Coding Challenges\n",
    "\n",
    "1. Manually calculate mean:\n",
    "\n",
    "    Write a function that takes in values and returns the mean of the values. Create a list of numbers that you test on your function to check to make sure your function works!\n",
    "    \n",
    "    *Note*: Do not use any mean methods built-in to any Python libraries to do this! This should be done without importing any additional libraries."
   ]
  },
  {
   "cell_type": "code",
   "execution_count": 1,
   "metadata": {},
   "outputs": [
    {
     "data": {
      "text/plain": [
       "50.5"
      ]
     },
     "execution_count": 1,
     "metadata": {},
     "output_type": "execute_result"
    }
   ],
   "source": [
    "num1to100 = list(range(1,101))\n",
    "\n",
    "def mean_this(input_data):\n",
    " \n",
    "    return sum(input_data)/len(input_data)\n",
    "\n",
    "mean_this(num1to100)"
   ]
  },
  {
   "cell_type": "markdown",
   "metadata": {},
   "source": [
    "2. Manually calculate standard deviation:\n",
    "\n",
    "    The formula for standard deviation is below:\n",
    "\n",
    "    $$\\sigma = \\sqrt{\\frac{1}{n}\\sum_{i=1}^n(x_i - \\mu)^2}$$\n",
    "\n",
    "    Where $x_i$ represents each value in the dataset, $\\mu$ represents the mean of all values in the dataset and $n$ represents the number of values in the dataset.\n",
    "\n",
    "    Write a function that takes in values and returns the standard deviation of the values using the formula above. Hint: use the function you wrote above to calculate the mean! Use the list of numbers you created above to test on your function.\n",
    "    \n",
    "    *Note*: Do not use any standard deviation methods built-in to any Python libraries to do this! This should be done without importing any additional libraries."
   ]
  },
  {
   "cell_type": "code",
   "execution_count": 2,
   "metadata": {},
   "outputs": [
    {
     "data": {
      "text/plain": [
       "28.86607004772212"
      ]
     },
     "execution_count": 2,
     "metadata": {},
     "output_type": "execute_result"
    }
   ],
   "source": [
    "def std_dev_this(input_data):\n",
    "\n",
    "    mean_num = mean_this(input_data)\n",
    "    cumsum = 0    \n",
    "    \n",
    "    for num in input_data:\n",
    "        cumsum += (num - mean_num)**2\n",
    "    \n",
    "    return (cumsum / len(input_data))**0.5\n",
    "        \n",
    "std_dev_this(num1to100)"
   ]
  },
  {
   "cell_type": "markdown",
   "metadata": {},
   "source": [
    "--- \n",
    "# Part 2\n",
    "\n",
    "Part 2 requires knowledge of Pandas, EDA, data cleaning, and data visualization.\n",
    "\n",
    "---"
   ]
  },
  {
   "cell_type": "markdown",
   "metadata": {},
   "source": [
    "*All libraries used should be added here*"
   ]
  },
  {
   "cell_type": "code",
   "execution_count": 3,
   "metadata": {},
   "outputs": [],
   "source": [
    "import pandas as pd\n",
    "import numpy as np\n",
    "import seaborn as sns\n",
    "import matplotlib.pyplot as plt"
   ]
  },
  {
   "cell_type": "markdown",
   "metadata": {},
   "source": [
    "## Data Import and Cleaning"
   ]
  },
  {
   "cell_type": "markdown",
   "metadata": {},
   "source": [
    "### Data Import & Cleaning\n",
    "\n",
    "Import all the datasets that you selected for this project and go through the following steps at a minimum. You are welcome to do further cleaning as you feel necessary. Make sure to comment your code to showcase the intent behind the data processing step.\n",
    "1. Display the data: print the first 5 rows of each dataframe to your Jupyter notebook.\n",
    "2. Check for missing values and datatype.\n",
    "3. Check for any obvious issues with the observations.\n",
    "4. Fix any errors you identified in steps 2-3.\n",
    "6. Fix any incorrect data types found in step 5.\n",
    "    - Fix any individual values preventing other columns from being the appropriate type.\n",
    "    - If the month column data is better analyzed as month and year, create new columns for the same\n",
    "7. Rename Columns.\n",
    "    - Column names should be all lowercase.\n",
    "    - Column names should not contain spaces (underscores will suffice--this allows for using the `df.column_name` method to access columns in addition to `df['column_name']`).\n",
    "    - Column names should be unique and informative.\n",
    "8. Drop unnecessary rows (if needed).\n",
    "9. Merge dataframes that can be merged.\n",
    "    - Since different climate metrics are in month format, you can merge them into one single dataframe for easier analysis\n",
    "10. Perform any additional cleaning that you feel is necessary.\n",
    "11. Save your cleaned and merged dataframes as csv files."
   ]
  },
  {
   "cell_type": "code",
   "execution_count": 4,
   "metadata": {},
   "outputs": [],
   "source": [
    "#Data Import\n",
    "rainfall_file = \"rainfall-monthly-total.csv\"                       \n",
    "df_rainfall = pd.read_csv(\"../data/\" + rainfall_file)\n",
    "\n",
    "wetbulb_file = \"wet-bulb-temperature-hourly.csv\"\n",
    "df_wetbulb = pd.read_csv(\"../data/\" + wetbulb_file)\n",
    "\n",
    "elec_file = \"T3.5 - Average Monthly Household Electricity Consumption by Planning Area & Dwelling Type.csv\"\n",
    "df_elec = pd.read_csv(\"../data/\" + elec_file, sep = \";\")\n",
    "\n",
    "gas_file = \"T3.9 - Average Monthly Household Gas Consumption by Planning Area & Dwelling Type.csv\"\n",
    "df_gas = pd.read_csv(\"../data/\" + gas_file, sep = \";\")\n",
    "\n",
    "mintemp_file = \"SurfaceAirTemperatureMonthlyAbsoluteExtremeMinimum.csv\"\n",
    "df_mintemp = pd.read_csv(\"../data/\" + mintemp_file)\n",
    "\n",
    "maxtemp_file = \"SurfaceAirTemperatureMonthlyAbsoluteExtremeMaximum.csv\"\n",
    "df_maxtemp = pd.read_csv(\"../data/\" + maxtemp_file)\n",
    "\n",
    "tar_file = \"T5.1 - Electricity Tariffs.csv\"\n",
    "df_tar = pd.read_csv(\"../data/\" + tar_file, sep = \";\")\n",
    "\n",
    "airtemp_file = \"surface-air-temperature-monthly-mean.csv\"\n",
    "df_airtemp = pd.read_csv(\"../data/\" + airtemp_file)"
   ]
  },
  {
   "cell_type": "code",
   "execution_count": 5,
   "metadata": {},
   "outputs": [],
   "source": [
    "df_wetbulb[\"year\"] = df_wetbulb[\"wbt_date\"].str[:4]\n",
    "df_wetbulb[\"month\"] = df_wetbulb[\"wbt_date\"].str[5:7]\n",
    "df_wetbulb_group = df_wetbulb.groupby([\"year\", \"month\"])[\"wet_bulb_temperature\"].mean()\n",
    "df_wetbulb_month = df_wetbulb_group.to_frame()\n",
    "df_wetbulb_month.reset_index(inplace = True)"
   ]
  },
  {
   "cell_type": "code",
   "execution_count": 6,
   "metadata": {},
   "outputs": [],
   "source": [
    "df_rainfall.columns = [\"year-month\", \"total_rainfall\"]\n",
    "df_rainfall[\"year\"] = df_rainfall[\"year-month\"].str[:4]\n",
    "df_rainfall[\"month\"] = df_rainfall[\"year-month\"].str[5:]"
   ]
  },
  {
   "cell_type": "code",
   "execution_count": 7,
   "metadata": {},
   "outputs": [],
   "source": [
    "df_merged = pd.merge(df_rainfall, df_wetbulb_month, how = \"inner\", on = [\"year\", \"month\"])\n",
    "df_merged[[\"year\",\"month\"]] = df_merged[[\"year\",\"month\"]].astype(\"int\")"
   ]
  },
  {
   "cell_type": "code",
   "execution_count": 8,
   "metadata": {},
   "outputs": [],
   "source": [
    "df_rainfall_year_sum = df_rainfall.groupby(\"year\")[\"total_rainfall\"].sum()\n",
    "df_rainfall_year = df_rainfall_year_sum.to_frame()\n",
    "df_rainfall_year.reset_index(inplace = True)"
   ]
  },
  {
   "cell_type": "code",
   "execution_count": 9,
   "metadata": {},
   "outputs": [],
   "source": [
    "df_elec = df_elec[df_elec[\"kwh_per_acc\"] != \"s\"]\n",
    "df_elec[\"kwh_per_acc\"] = df_elec[\"kwh_per_acc\"].astype(\"float\")\n",
    "df_elec = df_elec[df_elec[\"month\"] != \"Annual\"]\n",
    "df_elec[\"month\"] = df_elec[\"month\"].astype(\"int\")\n",
    "df_elec_group = df_elec.groupby([\"year\", \"month\"])[\"kwh_per_acc\"].mean()\n",
    "df_elec_month = df_elec_group.to_frame()\n",
    "df_elec_month.reset_index(inplace = True)"
   ]
  },
  {
   "cell_type": "code",
   "execution_count": 10,
   "metadata": {},
   "outputs": [],
   "source": [
    "df_merged = pd.merge(df_merged, df_elec_month, how = \"inner\", on = [\"year\", \"month\"])\n",
    "df_merged.drop(\"year-month\", axis = 1, inplace = True)"
   ]
  },
  {
   "cell_type": "code",
   "execution_count": 11,
   "metadata": {},
   "outputs": [],
   "source": [
    "df_gas = df_gas[df_gas[\"gas_kwh_per_acc\"] != \"s\"]\n",
    "df_gas[\"gas_kwh_per_acc\"] = df_gas[\"gas_kwh_per_acc\"].astype(\"float\")\n",
    "df_gas = df_gas[df_gas[\"month\"] != \"Annual\"]\n",
    "df_gas[\"month\"] = df_gas[\"month\"].astype(\"int\")\n",
    "df_gas_group = df_gas.groupby([\"year\", \"month\"])[\"gas_kwh_per_acc\"].mean()\n",
    "df_gas_month = df_gas_group.to_frame()\n",
    "df_gas_month.reset_index(inplace = True)"
   ]
  },
  {
   "cell_type": "code",
   "execution_count": 12,
   "metadata": {},
   "outputs": [],
   "source": [
    "df_merged = pd.merge(df_merged, df_gas_month, how = \"inner\", on = [\"year\", \"month\"])"
   ]
  },
  {
   "cell_type": "code",
   "execution_count": 13,
   "metadata": {},
   "outputs": [],
   "source": [
    "df_temp = pd.merge(df_mintemp, df_maxtemp, on = \"month\", how = \"inner\")\n",
    "df_temp[\"temp_var\"] = df_temp[\"max_temperature\"] - df_temp[\"temp_extremes_min\"]\n",
    "df_temp[\"year\"] = df_temp[\"month\"].str[:4].astype(\"int\")\n",
    "df_temp[\"month\"] = df_temp[\"month\"].str[5:].astype(\"int\")\n"
   ]
  },
  {
   "cell_type": "code",
   "execution_count": null,
   "metadata": {},
   "outputs": [],
   "source": []
  },
  {
   "cell_type": "code",
   "execution_count": 14,
   "metadata": {},
   "outputs": [],
   "source": [
    "df_merged = pd.merge(df_merged, df_temp, how = \"inner\", on = [\"year\", \"month\"])"
   ]
  },
  {
   "cell_type": "code",
   "execution_count": 15,
   "metadata": {},
   "outputs": [],
   "source": [
    "df_merged = pd.merge(df_merged, df_tar, how = \"inner\", on = \"year\")"
   ]
  },
  {
   "cell_type": "code",
   "execution_count": 16,
   "metadata": {},
   "outputs": [
    {
     "name": "stdout",
     "output_type": "stream",
     "text": [
      "<class 'pandas.core.frame.DataFrame'>\n",
      "RangeIndex: 491 entries, 0 to 490\n",
      "Data columns (total 2 columns):\n",
      " #   Column     Non-Null Count  Dtype  \n",
      "---  ------     --------------  -----  \n",
      " 0   month      491 non-null    object \n",
      " 1   mean_temp  491 non-null    float64\n",
      "dtypes: float64(1), object(1)\n",
      "memory usage: 7.8+ KB\n"
     ]
    }
   ],
   "source": [
    "df_airtemp.info(10)"
   ]
  },
  {
   "cell_type": "code",
   "execution_count": 17,
   "metadata": {},
   "outputs": [],
   "source": [
    "df_airtemp.columns = [\"year-month\", \"mean_temp\"]\n",
    "df_airtemp[\"year\"] = df_airtemp[\"year-month\"].str[:4].astype(\"int\")\n",
    "df_airtemp[\"month\"] = df_airtemp[\"year-month\"].str[5:].astype(\"int\")\n",
    "df_airtemp.drop(\"year-month\", axis = 1, inplace = True)"
   ]
  },
  {
   "cell_type": "code",
   "execution_count": 18,
   "metadata": {},
   "outputs": [
    {
     "name": "stdout",
     "output_type": "stream",
     "text": [
      "<class 'pandas.core.frame.DataFrame'>\n",
      "RangeIndex: 491 entries, 0 to 490\n",
      "Data columns (total 3 columns):\n",
      " #   Column     Non-Null Count  Dtype  \n",
      "---  ------     --------------  -----  \n",
      " 0   mean_temp  491 non-null    float64\n",
      " 1   year       491 non-null    int32  \n",
      " 2   month      491 non-null    int32  \n",
      "dtypes: float64(1), int32(2)\n",
      "memory usage: 7.8 KB\n"
     ]
    }
   ],
   "source": [
    "df_airtemp.info()"
   ]
  },
  {
   "cell_type": "code",
   "execution_count": 19,
   "metadata": {},
   "outputs": [],
   "source": [
    "df_merged = pd.merge(df_merged, df_airtemp, how = \"inner\", on = [\"year\", \"month\"])"
   ]
  },
  {
   "cell_type": "code",
   "execution_count": 20,
   "metadata": {},
   "outputs": [
    {
     "data": {
      "text/html": [
       "<div>\n",
       "<style scoped>\n",
       "    .dataframe tbody tr th:only-of-type {\n",
       "        vertical-align: middle;\n",
       "    }\n",
       "\n",
       "    .dataframe tbody tr th {\n",
       "        vertical-align: top;\n",
       "    }\n",
       "\n",
       "    .dataframe thead th {\n",
       "        text-align: right;\n",
       "    }\n",
       "</style>\n",
       "<table border=\"1\" class=\"dataframe\">\n",
       "  <thead>\n",
       "    <tr style=\"text-align: right;\">\n",
       "      <th></th>\n",
       "      <th>total_rainfall</th>\n",
       "      <th>year</th>\n",
       "      <th>month</th>\n",
       "      <th>wet_bulb_temperature</th>\n",
       "      <th>kwh_per_acc</th>\n",
       "      <th>gas_kwh_per_acc</th>\n",
       "      <th>temp_extremes_min</th>\n",
       "      <th>max_temperature</th>\n",
       "      <th>temp_var</th>\n",
       "      <th>price_electtariffs_inflatnadjusted_cent_per_kwh</th>\n",
       "      <th>mean_temp</th>\n",
       "    </tr>\n",
       "  </thead>\n",
       "  <tbody>\n",
       "    <tr>\n",
       "      <th>52</th>\n",
       "      <td>198.6</td>\n",
       "      <td>2009</td>\n",
       "      <td>5</td>\n",
       "      <td>26.366667</td>\n",
       "      <td>686.873622</td>\n",
       "      <td>87.274695</td>\n",
       "      <td>21.8</td>\n",
       "      <td>33.6</td>\n",
       "      <td>11.8</td>\n",
       "      <td>23.9</td>\n",
       "      <td>28.7</td>\n",
       "    </tr>\n",
       "    <tr>\n",
       "      <th>97</th>\n",
       "      <td>395.2</td>\n",
       "      <td>2013</td>\n",
       "      <td>2</td>\n",
       "      <td>24.792857</td>\n",
       "      <td>594.030739</td>\n",
       "      <td>87.005723</td>\n",
       "      <td>21.5</td>\n",
       "      <td>32.5</td>\n",
       "      <td>11.0</td>\n",
       "      <td>28.3</td>\n",
       "      <td>26.5</td>\n",
       "    </tr>\n",
       "    <tr>\n",
       "      <th>192</th>\n",
       "      <td>692.8</td>\n",
       "      <td>2021</td>\n",
       "      <td>1</td>\n",
       "      <td>23.733333</td>\n",
       "      <td>502.574792</td>\n",
       "      <td>83.772997</td>\n",
       "      <td>21.7</td>\n",
       "      <td>31.6</td>\n",
       "      <td>9.9</td>\n",
       "      <td>22.5</td>\n",
       "      <td>26.0</td>\n",
       "    </tr>\n",
       "    <tr>\n",
       "      <th>44</th>\n",
       "      <td>164.4</td>\n",
       "      <td>2008</td>\n",
       "      <td>9</td>\n",
       "      <td>25.344722</td>\n",
       "      <td>657.187938</td>\n",
       "      <td>90.908869</td>\n",
       "      <td>22.1</td>\n",
       "      <td>32.9</td>\n",
       "      <td>10.8</td>\n",
       "      <td>29.7</td>\n",
       "      <td>27.7</td>\n",
       "    </tr>\n",
       "    <tr>\n",
       "      <th>188</th>\n",
       "      <td>150.2</td>\n",
       "      <td>2020</td>\n",
       "      <td>9</td>\n",
       "      <td>24.719306</td>\n",
       "      <td>556.130495</td>\n",
       "      <td>87.390504</td>\n",
       "      <td>21.9</td>\n",
       "      <td>33.2</td>\n",
       "      <td>11.3</td>\n",
       "      <td>22.1</td>\n",
       "      <td>27.5</td>\n",
       "    </tr>\n",
       "    <tr>\n",
       "      <th>209</th>\n",
       "      <td>211.8</td>\n",
       "      <td>2022</td>\n",
       "      <td>6</td>\n",
       "      <td>25.118056</td>\n",
       "      <td>578.311846</td>\n",
       "      <td>72.459941</td>\n",
       "      <td>22.9</td>\n",
       "      <td>33.6</td>\n",
       "      <td>10.7</td>\n",
       "      <td>25.8</td>\n",
       "      <td>27.9</td>\n",
       "    </tr>\n",
       "    <tr>\n",
       "      <th>35</th>\n",
       "      <td>468.6</td>\n",
       "      <td>2007</td>\n",
       "      <td>12</td>\n",
       "      <td>24.704301</td>\n",
       "      <td>640.180315</td>\n",
       "      <td>83.621341</td>\n",
       "      <td>22.1</td>\n",
       "      <td>31.8</td>\n",
       "      <td>9.7</td>\n",
       "      <td>24.9</td>\n",
       "      <td>26.4</td>\n",
       "    </tr>\n",
       "    <tr>\n",
       "      <th>165</th>\n",
       "      <td>234.4</td>\n",
       "      <td>2018</td>\n",
       "      <td>10</td>\n",
       "      <td>25.083871</td>\n",
       "      <td>539.958611</td>\n",
       "      <td>76.394659</td>\n",
       "      <td>22.5</td>\n",
       "      <td>34.5</td>\n",
       "      <td>12.0</td>\n",
       "      <td>23.1</td>\n",
       "      <td>27.9</td>\n",
       "    </tr>\n",
       "    <tr>\n",
       "      <th>51</th>\n",
       "      <td>183.7</td>\n",
       "      <td>2009</td>\n",
       "      <td>4</td>\n",
       "      <td>26.000694</td>\n",
       "      <td>644.245098</td>\n",
       "      <td>89.018902</td>\n",
       "      <td>22.9</td>\n",
       "      <td>34.7</td>\n",
       "      <td>11.8</td>\n",
       "      <td>23.9</td>\n",
       "      <td>28.5</td>\n",
       "    </tr>\n",
       "    <tr>\n",
       "      <th>70</th>\n",
       "      <td>278.8</td>\n",
       "      <td>2010</td>\n",
       "      <td>11</td>\n",
       "      <td>25.448611</td>\n",
       "      <td>722.644805</td>\n",
       "      <td>88.953963</td>\n",
       "      <td>21.7</td>\n",
       "      <td>33.1</td>\n",
       "      <td>11.4</td>\n",
       "      <td>27.0</td>\n",
       "      <td>27.4</td>\n",
       "    </tr>\n",
       "  </tbody>\n",
       "</table>\n",
       "</div>"
      ],
      "text/plain": [
       "     total_rainfall  year  month  wet_bulb_temperature  kwh_per_acc  \\\n",
       "52            198.6  2009      5             26.366667   686.873622   \n",
       "97            395.2  2013      2             24.792857   594.030739   \n",
       "192           692.8  2021      1             23.733333   502.574792   \n",
       "44            164.4  2008      9             25.344722   657.187938   \n",
       "188           150.2  2020      9             24.719306   556.130495   \n",
       "209           211.8  2022      6             25.118056   578.311846   \n",
       "35            468.6  2007     12             24.704301   640.180315   \n",
       "165           234.4  2018     10             25.083871   539.958611   \n",
       "51            183.7  2009      4             26.000694   644.245098   \n",
       "70            278.8  2010     11             25.448611   722.644805   \n",
       "\n",
       "     gas_kwh_per_acc  temp_extremes_min  max_temperature  temp_var  \\\n",
       "52         87.274695               21.8             33.6      11.8   \n",
       "97         87.005723               21.5             32.5      11.0   \n",
       "192        83.772997               21.7             31.6       9.9   \n",
       "44         90.908869               22.1             32.9      10.8   \n",
       "188        87.390504               21.9             33.2      11.3   \n",
       "209        72.459941               22.9             33.6      10.7   \n",
       "35         83.621341               22.1             31.8       9.7   \n",
       "165        76.394659               22.5             34.5      12.0   \n",
       "51         89.018902               22.9             34.7      11.8   \n",
       "70         88.953963               21.7             33.1      11.4   \n",
       "\n",
       "     price_electtariffs_inflatnadjusted_cent_per_kwh  mean_temp  \n",
       "52                                              23.9       28.7  \n",
       "97                                              28.3       26.5  \n",
       "192                                             22.5       26.0  \n",
       "44                                              29.7       27.7  \n",
       "188                                             22.1       27.5  \n",
       "209                                             25.8       27.9  \n",
       "35                                              24.9       26.4  \n",
       "165                                             23.1       27.9  \n",
       "51                                              23.9       28.5  \n",
       "70                                              27.0       27.4  "
      ]
     },
     "execution_count": 20,
     "metadata": {},
     "output_type": "execute_result"
    }
   ],
   "source": [
    "df_merged.sample(10)"
   ]
  },
  {
   "cell_type": "code",
   "execution_count": 21,
   "metadata": {},
   "outputs": [
    {
     "name": "stdout",
     "output_type": "stream",
     "text": [
      "<class 'pandas.core.frame.DataFrame'>\n",
      "RangeIndex: 210 entries, 0 to 209\n",
      "Data columns (total 11 columns):\n",
      " #   Column                                           Non-Null Count  Dtype  \n",
      "---  ------                                           --------------  -----  \n",
      " 0   total_rainfall                                   210 non-null    float64\n",
      " 1   year                                             210 non-null    int32  \n",
      " 2   month                                            210 non-null    int32  \n",
      " 3   wet_bulb_temperature                             210 non-null    float64\n",
      " 4   kwh_per_acc                                      210 non-null    float64\n",
      " 5   gas_kwh_per_acc                                  210 non-null    float64\n",
      " 6   temp_extremes_min                                210 non-null    float64\n",
      " 7   max_temperature                                  210 non-null    float64\n",
      " 8   temp_var                                         210 non-null    float64\n",
      " 9   price_electtariffs_inflatnadjusted_cent_per_kwh  210 non-null    float64\n",
      " 10  mean_temp                                        210 non-null    float64\n",
      "dtypes: float64(9), int32(2)\n",
      "memory usage: 16.5 KB\n"
     ]
    }
   ],
   "source": [
    "df_merged.info()"
   ]
  },
  {
   "cell_type": "code",
   "execution_count": 22,
   "metadata": {},
   "outputs": [],
   "source": [
    "#features_category = [\"dwelling_type\"]\n",
    "#df_dummies = pd.get_dummies( df_merged[features_category], drop_first = True )\n",
    "#df_merged = pd.concat([df_merged, df_dummies], axis=1, sort=False)\n",
    "#df_merged.drop(features_category, inplace=True, axis = 1)"
   ]
  },
  {
   "cell_type": "code",
   "execution_count": 23,
   "metadata": {},
   "outputs": [
    {
     "data": {
      "text/html": [
       "<div>\n",
       "<style scoped>\n",
       "    .dataframe tbody tr th:only-of-type {\n",
       "        vertical-align: middle;\n",
       "    }\n",
       "\n",
       "    .dataframe tbody tr th {\n",
       "        vertical-align: top;\n",
       "    }\n",
       "\n",
       "    .dataframe thead th {\n",
       "        text-align: right;\n",
       "    }\n",
       "</style>\n",
       "<table border=\"1\" class=\"dataframe\">\n",
       "  <thead>\n",
       "    <tr style=\"text-align: right;\">\n",
       "      <th></th>\n",
       "      <th>total_rainfall</th>\n",
       "      <th>year</th>\n",
       "      <th>month</th>\n",
       "      <th>wet_bulb_temperature</th>\n",
       "      <th>kwh_per_acc</th>\n",
       "      <th>gas_kwh_per_acc</th>\n",
       "      <th>temp_extremes_min</th>\n",
       "      <th>max_temperature</th>\n",
       "      <th>temp_var</th>\n",
       "      <th>price_electtariffs_inflatnadjusted_cent_per_kwh</th>\n",
       "      <th>mean_temp</th>\n",
       "    </tr>\n",
       "  </thead>\n",
       "  <tbody>\n",
       "    <tr>\n",
       "      <th>total_rainfall</th>\n",
       "      <td>1.000000</td>\n",
       "      <td>-0.124638</td>\n",
       "      <td>0.237193</td>\n",
       "      <td>-0.110892</td>\n",
       "      <td>0.058359</td>\n",
       "      <td>0.085162</td>\n",
       "      <td>-0.367697</td>\n",
       "      <td>-0.290026</td>\n",
       "      <td>0.046560</td>\n",
       "      <td>0.124313</td>\n",
       "      <td>-0.541459</td>\n",
       "    </tr>\n",
       "    <tr>\n",
       "      <th>year</th>\n",
       "      <td>-0.124638</td>\n",
       "      <td>1.000000</td>\n",
       "      <td>-0.042950</td>\n",
       "      <td>-0.332480</td>\n",
       "      <td>-0.663137</td>\n",
       "      <td>-0.595063</td>\n",
       "      <td>0.184123</td>\n",
       "      <td>0.118355</td>\n",
       "      <td>-0.046712</td>\n",
       "      <td>-0.431282</td>\n",
       "      <td>0.171788</td>\n",
       "    </tr>\n",
       "    <tr>\n",
       "      <th>month</th>\n",
       "      <td>0.237193</td>\n",
       "      <td>-0.042950</td>\n",
       "      <td>1.000000</td>\n",
       "      <td>0.108849</td>\n",
       "      <td>0.272412</td>\n",
       "      <td>-0.056169</td>\n",
       "      <td>-0.105624</td>\n",
       "      <td>-0.171227</td>\n",
       "      <td>-0.063166</td>\n",
       "      <td>-0.006384</td>\n",
       "      <td>-0.024743</td>\n",
       "    </tr>\n",
       "    <tr>\n",
       "      <th>wet_bulb_temperature</th>\n",
       "      <td>-0.110892</td>\n",
       "      <td>-0.332480</td>\n",
       "      <td>0.108849</td>\n",
       "      <td>1.000000</td>\n",
       "      <td>0.537563</td>\n",
       "      <td>0.164914</td>\n",
       "      <td>0.118982</td>\n",
       "      <td>0.303766</td>\n",
       "      <td>0.167694</td>\n",
       "      <td>0.104981</td>\n",
       "      <td>0.651088</td>\n",
       "    </tr>\n",
       "    <tr>\n",
       "      <th>kwh_per_acc</th>\n",
       "      <td>0.058359</td>\n",
       "      <td>-0.663137</td>\n",
       "      <td>0.272412</td>\n",
       "      <td>0.537563</td>\n",
       "      <td>1.000000</td>\n",
       "      <td>0.540289</td>\n",
       "      <td>-0.128267</td>\n",
       "      <td>-0.090702</td>\n",
       "      <td>0.025357</td>\n",
       "      <td>0.336273</td>\n",
       "      <td>0.188970</td>\n",
       "    </tr>\n",
       "    <tr>\n",
       "      <th>gas_kwh_per_acc</th>\n",
       "      <td>0.085162</td>\n",
       "      <td>-0.595063</td>\n",
       "      <td>-0.056169</td>\n",
       "      <td>0.164914</td>\n",
       "      <td>0.540289</td>\n",
       "      <td>1.000000</td>\n",
       "      <td>-0.075291</td>\n",
       "      <td>-0.134309</td>\n",
       "      <td>-0.055696</td>\n",
       "      <td>0.375796</td>\n",
       "      <td>-0.163103</td>\n",
       "    </tr>\n",
       "    <tr>\n",
       "      <th>temp_extremes_min</th>\n",
       "      <td>-0.367697</td>\n",
       "      <td>0.184123</td>\n",
       "      <td>-0.105624</td>\n",
       "      <td>0.118982</td>\n",
       "      <td>-0.128267</td>\n",
       "      <td>-0.075291</td>\n",
       "      <td>1.000000</td>\n",
       "      <td>0.296228</td>\n",
       "      <td>-0.555443</td>\n",
       "      <td>-0.298165</td>\n",
       "      <td>0.345916</td>\n",
       "    </tr>\n",
       "    <tr>\n",
       "      <th>max_temperature</th>\n",
       "      <td>-0.290026</td>\n",
       "      <td>0.118355</td>\n",
       "      <td>-0.171227</td>\n",
       "      <td>0.303766</td>\n",
       "      <td>-0.090702</td>\n",
       "      <td>-0.134309</td>\n",
       "      <td>0.296228</td>\n",
       "      <td>1.000000</td>\n",
       "      <td>0.629694</td>\n",
       "      <td>-0.216900</td>\n",
       "      <td>0.541877</td>\n",
       "    </tr>\n",
       "    <tr>\n",
       "      <th>temp_var</th>\n",
       "      <td>0.046560</td>\n",
       "      <td>-0.046712</td>\n",
       "      <td>-0.063166</td>\n",
       "      <td>0.167694</td>\n",
       "      <td>0.025357</td>\n",
       "      <td>-0.055696</td>\n",
       "      <td>-0.555443</td>\n",
       "      <td>0.629694</td>\n",
       "      <td>1.000000</td>\n",
       "      <td>0.053672</td>\n",
       "      <td>0.190426</td>\n",
       "    </tr>\n",
       "    <tr>\n",
       "      <th>price_electtariffs_inflatnadjusted_cent_per_kwh</th>\n",
       "      <td>0.124313</td>\n",
       "      <td>-0.431282</td>\n",
       "      <td>-0.006384</td>\n",
       "      <td>0.104981</td>\n",
       "      <td>0.336273</td>\n",
       "      <td>0.375796</td>\n",
       "      <td>-0.298165</td>\n",
       "      <td>-0.216900</td>\n",
       "      <td>0.053672</td>\n",
       "      <td>1.000000</td>\n",
       "      <td>-0.258718</td>\n",
       "    </tr>\n",
       "    <tr>\n",
       "      <th>mean_temp</th>\n",
       "      <td>-0.541459</td>\n",
       "      <td>0.171788</td>\n",
       "      <td>-0.024743</td>\n",
       "      <td>0.651088</td>\n",
       "      <td>0.188970</td>\n",
       "      <td>-0.163103</td>\n",
       "      <td>0.345916</td>\n",
       "      <td>0.541877</td>\n",
       "      <td>0.190426</td>\n",
       "      <td>-0.258718</td>\n",
       "      <td>1.000000</td>\n",
       "    </tr>\n",
       "  </tbody>\n",
       "</table>\n",
       "</div>"
      ],
      "text/plain": [
       "                                                 total_rainfall      year  \\\n",
       "total_rainfall                                         1.000000 -0.124638   \n",
       "year                                                  -0.124638  1.000000   \n",
       "month                                                  0.237193 -0.042950   \n",
       "wet_bulb_temperature                                  -0.110892 -0.332480   \n",
       "kwh_per_acc                                            0.058359 -0.663137   \n",
       "gas_kwh_per_acc                                        0.085162 -0.595063   \n",
       "temp_extremes_min                                     -0.367697  0.184123   \n",
       "max_temperature                                       -0.290026  0.118355   \n",
       "temp_var                                               0.046560 -0.046712   \n",
       "price_electtariffs_inflatnadjusted_cent_per_kwh        0.124313 -0.431282   \n",
       "mean_temp                                             -0.541459  0.171788   \n",
       "\n",
       "                                                    month  \\\n",
       "total_rainfall                                   0.237193   \n",
       "year                                            -0.042950   \n",
       "month                                            1.000000   \n",
       "wet_bulb_temperature                             0.108849   \n",
       "kwh_per_acc                                      0.272412   \n",
       "gas_kwh_per_acc                                 -0.056169   \n",
       "temp_extremes_min                               -0.105624   \n",
       "max_temperature                                 -0.171227   \n",
       "temp_var                                        -0.063166   \n",
       "price_electtariffs_inflatnadjusted_cent_per_kwh -0.006384   \n",
       "mean_temp                                       -0.024743   \n",
       "\n",
       "                                                 wet_bulb_temperature  \\\n",
       "total_rainfall                                              -0.110892   \n",
       "year                                                        -0.332480   \n",
       "month                                                        0.108849   \n",
       "wet_bulb_temperature                                         1.000000   \n",
       "kwh_per_acc                                                  0.537563   \n",
       "gas_kwh_per_acc                                              0.164914   \n",
       "temp_extremes_min                                            0.118982   \n",
       "max_temperature                                              0.303766   \n",
       "temp_var                                                     0.167694   \n",
       "price_electtariffs_inflatnadjusted_cent_per_kwh              0.104981   \n",
       "mean_temp                                                    0.651088   \n",
       "\n",
       "                                                 kwh_per_acc  gas_kwh_per_acc  \\\n",
       "total_rainfall                                      0.058359         0.085162   \n",
       "year                                               -0.663137        -0.595063   \n",
       "month                                               0.272412        -0.056169   \n",
       "wet_bulb_temperature                                0.537563         0.164914   \n",
       "kwh_per_acc                                         1.000000         0.540289   \n",
       "gas_kwh_per_acc                                     0.540289         1.000000   \n",
       "temp_extremes_min                                  -0.128267        -0.075291   \n",
       "max_temperature                                    -0.090702        -0.134309   \n",
       "temp_var                                            0.025357        -0.055696   \n",
       "price_electtariffs_inflatnadjusted_cent_per_kwh     0.336273         0.375796   \n",
       "mean_temp                                           0.188970        -0.163103   \n",
       "\n",
       "                                                 temp_extremes_min  \\\n",
       "total_rainfall                                           -0.367697   \n",
       "year                                                      0.184123   \n",
       "month                                                    -0.105624   \n",
       "wet_bulb_temperature                                      0.118982   \n",
       "kwh_per_acc                                              -0.128267   \n",
       "gas_kwh_per_acc                                          -0.075291   \n",
       "temp_extremes_min                                         1.000000   \n",
       "max_temperature                                           0.296228   \n",
       "temp_var                                                 -0.555443   \n",
       "price_electtariffs_inflatnadjusted_cent_per_kwh          -0.298165   \n",
       "mean_temp                                                 0.345916   \n",
       "\n",
       "                                                 max_temperature  temp_var  \\\n",
       "total_rainfall                                         -0.290026  0.046560   \n",
       "year                                                    0.118355 -0.046712   \n",
       "month                                                  -0.171227 -0.063166   \n",
       "wet_bulb_temperature                                    0.303766  0.167694   \n",
       "kwh_per_acc                                            -0.090702  0.025357   \n",
       "gas_kwh_per_acc                                        -0.134309 -0.055696   \n",
       "temp_extremes_min                                       0.296228 -0.555443   \n",
       "max_temperature                                         1.000000  0.629694   \n",
       "temp_var                                                0.629694  1.000000   \n",
       "price_electtariffs_inflatnadjusted_cent_per_kwh        -0.216900  0.053672   \n",
       "mean_temp                                               0.541877  0.190426   \n",
       "\n",
       "                                                 price_electtariffs_inflatnadjusted_cent_per_kwh  \\\n",
       "total_rainfall                                                                          0.124313   \n",
       "year                                                                                   -0.431282   \n",
       "month                                                                                  -0.006384   \n",
       "wet_bulb_temperature                                                                    0.104981   \n",
       "kwh_per_acc                                                                             0.336273   \n",
       "gas_kwh_per_acc                                                                         0.375796   \n",
       "temp_extremes_min                                                                      -0.298165   \n",
       "max_temperature                                                                        -0.216900   \n",
       "temp_var                                                                                0.053672   \n",
       "price_electtariffs_inflatnadjusted_cent_per_kwh                                         1.000000   \n",
       "mean_temp                                                                              -0.258718   \n",
       "\n",
       "                                                 mean_temp  \n",
       "total_rainfall                                   -0.541459  \n",
       "year                                              0.171788  \n",
       "month                                            -0.024743  \n",
       "wet_bulb_temperature                              0.651088  \n",
       "kwh_per_acc                                       0.188970  \n",
       "gas_kwh_per_acc                                  -0.163103  \n",
       "temp_extremes_min                                 0.345916  \n",
       "max_temperature                                   0.541877  \n",
       "temp_var                                          0.190426  \n",
       "price_electtariffs_inflatnadjusted_cent_per_kwh  -0.258718  \n",
       "mean_temp                                         1.000000  "
      ]
     },
     "execution_count": 23,
     "metadata": {},
     "output_type": "execute_result"
    }
   ],
   "source": [
    "df_merged.corr()"
   ]
  },
  {
   "cell_type": "code",
   "execution_count": 24,
   "metadata": {},
   "outputs": [
    {
     "data": {
      "image/png": "[encoded data removed]",
      "text/plain": [
       "<Figure size 640x480 with 2 Axes>"
      ]
     },
     "metadata": {},
     "output_type": "display_data"
    }
   ],
   "source": [
    "sns.heatmap(df_merged.corr(), annot = True, annot_kws={\"size\":8}, fmt=\".1f\");"
   ]
  },
  {
   "cell_type": "code",
   "execution_count": 25,
   "metadata": {},
   "outputs": [],
   "source": [
    "df_merged[\"elec_price\"] = df_merged[\"price_electtariffs_inflatnadjusted_cent_per_kwh\"] * 0.01 * df_merged[\"kwh_per_acc\"]"
   ]
  },
  {
   "cell_type": "code",
   "execution_count": 26,
   "metadata": {},
   "outputs": [
    {
     "data": {
      "text/html": [
       "<div>\n",
       "<style scoped>\n",
       "    .dataframe tbody tr th:only-of-type {\n",
       "        vertical-align: middle;\n",
       "    }\n",
       "\n",
       "    .dataframe tbody tr th {\n",
       "        vertical-align: top;\n",
       "    }\n",
       "\n",
       "    .dataframe thead th {\n",
       "        text-align: right;\n",
       "    }\n",
       "</style>\n",
       "<table border=\"1\" class=\"dataframe\">\n",
       "  <thead>\n",
       "    <tr style=\"text-align: right;\">\n",
       "      <th></th>\n",
       "      <th>total_rainfall</th>\n",
       "      <th>year</th>\n",
       "      <th>month</th>\n",
       "      <th>wet_bulb_temperature</th>\n",
       "      <th>kwh_per_acc</th>\n",
       "      <th>gas_kwh_per_acc</th>\n",
       "      <th>temp_extremes_min</th>\n",
       "      <th>max_temperature</th>\n",
       "      <th>temp_var</th>\n",
       "      <th>price_electtariffs_inflatnadjusted_cent_per_kwh</th>\n",
       "      <th>mean_temp</th>\n",
       "      <th>elec_price</th>\n",
       "    </tr>\n",
       "  </thead>\n",
       "  <tbody>\n",
       "    <tr>\n",
       "      <th>91</th>\n",
       "      <td>119.0</td>\n",
       "      <td>2012</td>\n",
       "      <td>8</td>\n",
       "      <td>25.202016</td>\n",
       "      <td>680.815625</td>\n",
       "      <td>88.387952</td>\n",
       "      <td>23.1</td>\n",
       "      <td>32.7</td>\n",
       "      <td>9.6</td>\n",
       "      <td>30.6</td>\n",
       "      <td>27.9</td>\n",
       "      <td>208.329581</td>\n",
       "    </tr>\n",
       "    <tr>\n",
       "      <th>22</th>\n",
       "      <td>185.6</td>\n",
       "      <td>2006</td>\n",
       "      <td>11</td>\n",
       "      <td>25.550417</td>\n",
       "      <td>687.627165</td>\n",
       "      <td>89.671472</td>\n",
       "      <td>23.5</td>\n",
       "      <td>33.2</td>\n",
       "      <td>9.7</td>\n",
       "      <td>26.5</td>\n",
       "      <td>27.3</td>\n",
       "      <td>182.221199</td>\n",
       "    </tr>\n",
       "    <tr>\n",
       "      <th>139</th>\n",
       "      <td>139.2</td>\n",
       "      <td>2016</td>\n",
       "      <td>8</td>\n",
       "      <td>25.236156</td>\n",
       "      <td>637.173448</td>\n",
       "      <td>79.048368</td>\n",
       "      <td>22.1</td>\n",
       "      <td>33.8</td>\n",
       "      <td>11.7</td>\n",
       "      <td>19.7</td>\n",
       "      <td>28.9</td>\n",
       "      <td>125.523169</td>\n",
       "    </tr>\n",
       "    <tr>\n",
       "      <th>131</th>\n",
       "      <td>302.3</td>\n",
       "      <td>2015</td>\n",
       "      <td>12</td>\n",
       "      <td>25.130376</td>\n",
       "      <td>637.122568</td>\n",
       "      <td>80.560000</td>\n",
       "      <td>22.5</td>\n",
       "      <td>33.1</td>\n",
       "      <td>10.6</td>\n",
       "      <td>22.8</td>\n",
       "      <td>27.7</td>\n",
       "      <td>145.263946</td>\n",
       "    </tr>\n",
       "    <tr>\n",
       "      <th>94</th>\n",
       "      <td>208.2</td>\n",
       "      <td>2012</td>\n",
       "      <td>11</td>\n",
       "      <td>25.138472</td>\n",
       "      <td>675.977344</td>\n",
       "      <td>88.318373</td>\n",
       "      <td>23.4</td>\n",
       "      <td>32.8</td>\n",
       "      <td>9.4</td>\n",
       "      <td>30.6</td>\n",
       "      <td>27.1</td>\n",
       "      <td>206.849067</td>\n",
       "    </tr>\n",
       "    <tr>\n",
       "      <th>192</th>\n",
       "      <td>692.8</td>\n",
       "      <td>2021</td>\n",
       "      <td>1</td>\n",
       "      <td>23.733333</td>\n",
       "      <td>502.574792</td>\n",
       "      <td>83.772997</td>\n",
       "      <td>21.7</td>\n",
       "      <td>31.6</td>\n",
       "      <td>9.9</td>\n",
       "      <td>22.5</td>\n",
       "      <td>26.0</td>\n",
       "      <td>113.079328</td>\n",
       "    </tr>\n",
       "    <tr>\n",
       "      <th>151</th>\n",
       "      <td>84.2</td>\n",
       "      <td>2017</td>\n",
       "      <td>8</td>\n",
       "      <td>25.390591</td>\n",
       "      <td>604.870588</td>\n",
       "      <td>74.391691</td>\n",
       "      <td>23.7</td>\n",
       "      <td>33.0</td>\n",
       "      <td>9.3</td>\n",
       "      <td>21.2</td>\n",
       "      <td>28.1</td>\n",
       "      <td>128.232565</td>\n",
       "    </tr>\n",
       "    <tr>\n",
       "      <th>27</th>\n",
       "      <td>240.2</td>\n",
       "      <td>2007</td>\n",
       "      <td>4</td>\n",
       "      <td>26.009861</td>\n",
       "      <td>655.199213</td>\n",
       "      <td>89.160429</td>\n",
       "      <td>22.2</td>\n",
       "      <td>33.7</td>\n",
       "      <td>11.5</td>\n",
       "      <td>24.9</td>\n",
       "      <td>28.1</td>\n",
       "      <td>163.144604</td>\n",
       "    </tr>\n",
       "    <tr>\n",
       "      <th>38</th>\n",
       "      <td>294.1</td>\n",
       "      <td>2008</td>\n",
       "      <td>3</td>\n",
       "      <td>24.830511</td>\n",
       "      <td>589.157087</td>\n",
       "      <td>87.682622</td>\n",
       "      <td>21.8</td>\n",
       "      <td>32.7</td>\n",
       "      <td>10.9</td>\n",
       "      <td>29.7</td>\n",
       "      <td>26.5</td>\n",
       "      <td>174.979655</td>\n",
       "    </tr>\n",
       "    <tr>\n",
       "      <th>164</th>\n",
       "      <td>144.4</td>\n",
       "      <td>2018</td>\n",
       "      <td>9</td>\n",
       "      <td>24.816250</td>\n",
       "      <td>535.063333</td>\n",
       "      <td>75.380769</td>\n",
       "      <td>21.4</td>\n",
       "      <td>33.0</td>\n",
       "      <td>11.6</td>\n",
       "      <td>23.1</td>\n",
       "      <td>28.0</td>\n",
       "      <td>123.599630</td>\n",
       "    </tr>\n",
       "  </tbody>\n",
       "</table>\n",
       "</div>"
      ],
      "text/plain": [
       "     total_rainfall  year  month  wet_bulb_temperature  kwh_per_acc  \\\n",
       "91            119.0  2012      8             25.202016   680.815625   \n",
       "22            185.6  2006     11             25.550417   687.627165   \n",
       "139           139.2  2016      8             25.236156   637.173448   \n",
       "131           302.3  2015     12             25.130376   637.122568   \n",
       "94            208.2  2012     11             25.138472   675.977344   \n",
       "192           692.8  2021      1             23.733333   502.574792   \n",
       "151            84.2  2017      8             25.390591   604.870588   \n",
       "27            240.2  2007      4             26.009861   655.199213   \n",
       "38            294.1  2008      3             24.830511   589.157087   \n",
       "164           144.4  2018      9             24.816250   535.063333   \n",
       "\n",
       "     gas_kwh_per_acc  temp_extremes_min  max_temperature  temp_var  \\\n",
       "91         88.387952               23.1             32.7       9.6   \n",
       "22         89.671472               23.5             33.2       9.7   \n",
       "139        79.048368               22.1             33.8      11.7   \n",
       "131        80.560000               22.5             33.1      10.6   \n",
       "94         88.318373               23.4             32.8       9.4   \n",
       "192        83.772997               21.7             31.6       9.9   \n",
       "151        74.391691               23.7             33.0       9.3   \n",
       "27         89.160429               22.2             33.7      11.5   \n",
       "38         87.682622               21.8             32.7      10.9   \n",
       "164        75.380769               21.4             33.0      11.6   \n",
       "\n",
       "     price_electtariffs_inflatnadjusted_cent_per_kwh  mean_temp  elec_price  \n",
       "91                                              30.6       27.9  208.329581  \n",
       "22                                              26.5       27.3  182.221199  \n",
       "139                                             19.7       28.9  125.523169  \n",
       "131                                             22.8       27.7  145.263946  \n",
       "94                                              30.6       27.1  206.849067  \n",
       "192                                             22.5       26.0  113.079328  \n",
       "151                                             21.2       28.1  128.232565  \n",
       "27                                              24.9       28.1  163.144604  \n",
       "38                                              29.7       26.5  174.979655  \n",
       "164                                             23.1       28.0  123.599630  "
      ]
     },
     "execution_count": 26,
     "metadata": {},
     "output_type": "execute_result"
    }
   ],
   "source": [
    "df_merged.sample(10)"
   ]
  },
  {
   "cell_type": "code",
   "execution_count": 32,
   "metadata": {},
   "outputs": [],
   "source": [
    "df_merged.to_csv(\"output.csv\")"
   ]
  },
  {
   "cell_type": "markdown",
   "metadata": {},
   "source": [
    "### Data Dictionary\n",
    "\n",
    "Now that we've fixed our data, and given it appropriate names, let's create a [data dictionary](http://library.ucmerced.edu/node/10249). \n",
    "\n",
    "A data dictionary provides a quick overview of features/variables/columns, alongside data types and descriptions. The more descriptive you can be, the more useful this document is.\n",
    "\n",
    "Example of a Fictional Data Dictionary Entry: \n",
    "\n",
    "|Feature|Type|Dataset|Description|\n",
    "|---|---|---|---|\n",
    "|**county_pop**|*integer*|2010 census|The population of the county (units in thousands, where 2.5 represents 2500 people).| \n",
    "|**per_poverty**|*float*|2010 census|The percent of the county over the age of 18 living below the 200% of official US poverty rate (units percent to two decimal places 98.10 means 98.1%)|\n",
    "\n",
    "[Here's a quick link to a short guide for formatting markdown in Jupyter notebooks](https://jupyter-notebook.readthedocs.io/en/stable/examples/Notebook/Working%20With%20Markdown%20Cells.html).\n",
    "\n",
    "Provided is the skeleton for formatting a markdown table, with columns headers that will help you create a data dictionary to quickly summarize your data, as well as some examples. **This would be a great thing to copy and paste into your custom README for this project.**\n",
    "\n",
    "*Note*: if you are unsure of what a feature is, check the source of the data! This can be found in the README."
   ]
  },
  {
   "cell_type": "markdown",
   "metadata": {},
   "source": [
    "**To-Do:** *Edit the table below to create your own data dictionary for the datasets you chose.*\n",
    "\n",
    "|Feature|Type|Dataset|Description|\n",
    "|---|---|---|---|\n",
    "|total_rainfall|float|rainfall-monthly-total|Total rainfall in mm| \n"
   ]
  },
  {
   "cell_type": "code",
   "execution_count": null,
   "metadata": {},
   "outputs": [],
   "source": []
  },
  {
   "cell_type": "markdown",
   "metadata": {},
   "source": [
    "## Exploratory Data Analysis\n",
    "\n",
    "Complete the following steps to explore your data. You are welcome to do more EDA than the steps outlined here as you feel necessary:\n",
    "1. Summary Statistics.\n",
    "2. Use a **dictionary comprehension** to apply the standard deviation function you create in part 1 to each numeric column in the dataframe.  **No loops**.\n",
    "    - Assign the output to variable `sd` as a dictionary where: \n",
    "        - Each column name is now a key \n",
    "        - That standard deviation of the column is the value \n",
    "        - *Example Output :* `{'rainfall-monthly-total': xxx, 'no_of_rainy_days': xxx, ...}`\n",
    "3. Investigate trends in the data.\n",
    "    - Using sorting and/or masking (along with the `.head()` method to avoid printing our entire dataframe), consider questions relevant to your problem statement. Some examples are provided below (but feel free to change these questions for your specific problem):\n",
    "        - Which month have the highest and lowest total rainfall in 1990, 2000, 2010 and 2020?\n",
    "        - Which year have the highest and lowest total rainfall in the date range of analysis?\n",
    "        - Which month have the highest and lowest number of rainy days in 1990, 2000, 2010 and 2020?\n",
    "        - Which year have the highest and lowest number of rainy days in the date range of analysis?\n",
    "        - Are there any outliers months in the dataset?\n",
    "       \n",
    "    - **The above 5 questions are compulsory. Feel free to explore other trends based on the datasets that you have choosen for analysis. You should comment on your findings at each step in a markdown cell below your code block**. Make sure you include at least one example of sorting your dataframe by a column, and one example of using boolean filtering (i.e., masking) to select a subset of the dataframe."
   ]
  },
  {
   "cell_type": "code",
   "execution_count": 27,
   "metadata": {},
   "outputs": [
    {
     "data": {
      "text/html": [
       "<div>\n",
       "<style scoped>\n",
       "    .dataframe tbody tr th:only-of-type {\n",
       "        vertical-align: middle;\n",
       "    }\n",
       "\n",
       "    .dataframe tbody tr th {\n",
       "        vertical-align: top;\n",
       "    }\n",
       "\n",
       "    .dataframe thead th {\n",
       "        text-align: right;\n",
       "    }\n",
       "</style>\n",
       "<table border=\"1\" class=\"dataframe\">\n",
       "  <thead>\n",
       "    <tr style=\"text-align: right;\">\n",
       "      <th></th>\n",
       "      <th>total_rainfall</th>\n",
       "    </tr>\n",
       "  </thead>\n",
       "  <tbody>\n",
       "    <tr>\n",
       "      <th>count</th>\n",
       "      <td>488.000000</td>\n",
       "    </tr>\n",
       "    <tr>\n",
       "      <th>mean</th>\n",
       "      <td>177.163730</td>\n",
       "    </tr>\n",
       "    <tr>\n",
       "      <th>std</th>\n",
       "      <td>113.916029</td>\n",
       "    </tr>\n",
       "    <tr>\n",
       "      <th>min</th>\n",
       "      <td>0.200000</td>\n",
       "    </tr>\n",
       "    <tr>\n",
       "      <th>25%</th>\n",
       "      <td>93.850000</td>\n",
       "    </tr>\n",
       "    <tr>\n",
       "      <th>50%</th>\n",
       "      <td>159.450000</td>\n",
       "    </tr>\n",
       "    <tr>\n",
       "      <th>75%</th>\n",
       "      <td>238.075000</td>\n",
       "    </tr>\n",
       "    <tr>\n",
       "      <th>max</th>\n",
       "      <td>765.900000</td>\n",
       "    </tr>\n",
       "  </tbody>\n",
       "</table>\n",
       "</div>"
      ],
      "text/plain": [
       "       total_rainfall\n",
       "count      488.000000\n",
       "mean       177.163730\n",
       "std        113.916029\n",
       "min          0.200000\n",
       "25%         93.850000\n",
       "50%        159.450000\n",
       "75%        238.075000\n",
       "max        765.900000"
      ]
     },
     "execution_count": 27,
     "metadata": {},
     "output_type": "execute_result"
    }
   ],
   "source": [
    "# 1) Summary Statistics\n",
    "\n",
    "df_rainfall.describe()"
   ]
  },
  {
   "cell_type": "code",
   "execution_count": 28,
   "metadata": {},
   "outputs": [
    {
     "data": {
      "text/plain": [
       "113.79925170470057"
      ]
     },
     "execution_count": 28,
     "metadata": {},
     "output_type": "execute_result"
    }
   ],
   "source": [
    "std_dev_this(list(df_rainfall[\"total_rainfall\"]))\n"
   ]
  },
  {
   "cell_type": "code",
   "execution_count": 29,
   "metadata": {},
   "outputs": [
    {
     "ename": "TypeError",
     "evalue": "std_dev_this() got an unexpected keyword argument 'axis'",
     "output_type": "error",
     "traceback": [
      "\u001b[1;31m---------------------------------------------------------------------------\u001b[0m",
      "\u001b[1;31mTypeError\u001b[0m                                 Traceback (most recent call last)",
      "Cell \u001b[1;32mIn[29], line 3\u001b[0m\n\u001b[0;32m      1\u001b[0m \u001b[38;5;66;03m# 2) Dictionary Comprehension\u001b[39;00m\n\u001b[1;32m----> 3\u001b[0m df_rainfall[\u001b[38;5;124m\"\u001b[39m\u001b[38;5;124mtotal_rainfall\u001b[39m\u001b[38;5;124m\"\u001b[39m]\u001b[38;5;241m.\u001b[39mapply(std_dev_this, axis\u001b[38;5;241m=\u001b[39m\u001b[38;5;241m0\u001b[39m)\n\u001b[0;32m      5\u001b[0m df_rainfall\u001b[38;5;241m.\u001b[39mhead()\n",
      "File \u001b[1;32m~\\anaconda3\\Lib\\site-packages\\pandas\\core\\series.py:4630\u001b[0m, in \u001b[0;36mSeries.apply\u001b[1;34m(self, func, convert_dtype, args, **kwargs)\u001b[0m\n\u001b[0;32m   4520\u001b[0m \u001b[38;5;28;01mdef\u001b[39;00m \u001b[38;5;21mapply\u001b[39m(\n\u001b[0;32m   4521\u001b[0m     \u001b[38;5;28mself\u001b[39m,\n\u001b[0;32m   4522\u001b[0m     func: AggFuncType,\n\u001b[1;32m   (...)\u001b[0m\n\u001b[0;32m   4525\u001b[0m     \u001b[38;5;241m*\u001b[39m\u001b[38;5;241m*\u001b[39mkwargs,\n\u001b[0;32m   4526\u001b[0m ) \u001b[38;5;241m-\u001b[39m\u001b[38;5;241m>\u001b[39m DataFrame \u001b[38;5;241m|\u001b[39m Series:\n\u001b[0;32m   4527\u001b[0m \u001b[38;5;250m    \u001b[39m\u001b[38;5;124;03m\"\"\"\u001b[39;00m\n\u001b[0;32m   4528\u001b[0m \u001b[38;5;124;03m    Invoke function on values of Series.\u001b[39;00m\n\u001b[0;32m   4529\u001b[0m \n\u001b[1;32m   (...)\u001b[0m\n\u001b[0;32m   4628\u001b[0m \u001b[38;5;124;03m    dtype: float64\u001b[39;00m\n\u001b[0;32m   4629\u001b[0m \u001b[38;5;124;03m    \"\"\"\u001b[39;00m\n\u001b[1;32m-> 4630\u001b[0m     \u001b[38;5;28;01mreturn\u001b[39;00m SeriesApply(\u001b[38;5;28mself\u001b[39m, func, convert_dtype, args, kwargs)\u001b[38;5;241m.\u001b[39mapply()\n",
      "File \u001b[1;32m~\\anaconda3\\Lib\\site-packages\\pandas\\core\\apply.py:1025\u001b[0m, in \u001b[0;36mSeriesApply.apply\u001b[1;34m(self)\u001b[0m\n\u001b[0;32m   1022\u001b[0m     \u001b[38;5;28;01mreturn\u001b[39;00m \u001b[38;5;28mself\u001b[39m\u001b[38;5;241m.\u001b[39mapply_str()\n\u001b[0;32m   1024\u001b[0m \u001b[38;5;66;03m# self.f is Callable\u001b[39;00m\n\u001b[1;32m-> 1025\u001b[0m \u001b[38;5;28;01mreturn\u001b[39;00m \u001b[38;5;28mself\u001b[39m\u001b[38;5;241m.\u001b[39mapply_standard()\n",
      "File \u001b[1;32m~\\anaconda3\\Lib\\site-packages\\pandas\\core\\apply.py:1076\u001b[0m, in \u001b[0;36mSeriesApply.apply_standard\u001b[1;34m(self)\u001b[0m\n\u001b[0;32m   1074\u001b[0m     \u001b[38;5;28;01melse\u001b[39;00m:\n\u001b[0;32m   1075\u001b[0m         values \u001b[38;5;241m=\u001b[39m obj\u001b[38;5;241m.\u001b[39mastype(\u001b[38;5;28mobject\u001b[39m)\u001b[38;5;241m.\u001b[39m_values\n\u001b[1;32m-> 1076\u001b[0m         mapped \u001b[38;5;241m=\u001b[39m lib\u001b[38;5;241m.\u001b[39mmap_infer(\n\u001b[0;32m   1077\u001b[0m             values,\n\u001b[0;32m   1078\u001b[0m             f,\n\u001b[0;32m   1079\u001b[0m             convert\u001b[38;5;241m=\u001b[39m\u001b[38;5;28mself\u001b[39m\u001b[38;5;241m.\u001b[39mconvert_dtype,\n\u001b[0;32m   1080\u001b[0m         )\n\u001b[0;32m   1082\u001b[0m \u001b[38;5;28;01mif\u001b[39;00m \u001b[38;5;28mlen\u001b[39m(mapped) \u001b[38;5;129;01mand\u001b[39;00m \u001b[38;5;28misinstance\u001b[39m(mapped[\u001b[38;5;241m0\u001b[39m], ABCSeries):\n\u001b[0;32m   1083\u001b[0m     \u001b[38;5;66;03m# GH#43986 Need to do list(mapped) in order to get treated as nested\u001b[39;00m\n\u001b[0;32m   1084\u001b[0m     \u001b[38;5;66;03m#  See also GH#25959 regarding EA support\u001b[39;00m\n\u001b[0;32m   1085\u001b[0m     \u001b[38;5;28;01mreturn\u001b[39;00m obj\u001b[38;5;241m.\u001b[39m_constructor_expanddim(\u001b[38;5;28mlist\u001b[39m(mapped), index\u001b[38;5;241m=\u001b[39mobj\u001b[38;5;241m.\u001b[39mindex)\n",
      "File \u001b[1;32m~\\anaconda3\\Lib\\site-packages\\pandas\\_libs\\lib.pyx:2834\u001b[0m, in \u001b[0;36mpandas._libs.lib.map_infer\u001b[1;34m()\u001b[0m\n",
      "File \u001b[1;32m~\\anaconda3\\Lib\\site-packages\\pandas\\core\\apply.py:133\u001b[0m, in \u001b[0;36mApply.__init__.<locals>.f\u001b[1;34m(x)\u001b[0m\n\u001b[0;32m    132\u001b[0m \u001b[38;5;28;01mdef\u001b[39;00m \u001b[38;5;21mf\u001b[39m(x):\n\u001b[1;32m--> 133\u001b[0m     \u001b[38;5;28;01mreturn\u001b[39;00m func(x, \u001b[38;5;241m*\u001b[39margs, \u001b[38;5;241m*\u001b[39m\u001b[38;5;241m*\u001b[39mkwargs)\n",
      "\u001b[1;31mTypeError\u001b[0m: std_dev_this() got an unexpected keyword argument 'axis'"
     ]
    }
   ],
   "source": [
    "# 2) Dictionary Comprehension\n",
    "\n",
    "df_rainfall[\"total_rainfall\"].apply(std_dev_this, axis=0)\n",
    "\n",
    "df_rainfall.head()"
   ]
  },
  {
   "cell_type": "markdown",
   "metadata": {},
   "source": [
    "**To-Do:** *Edit this cell with your findings on trends in the data (step 3 above).*"
   ]
  },
  {
   "cell_type": "markdown",
   "metadata": {},
   "source": [
    "## Visualize the Data\n",
    "\n",
    "There's not a magic bullet recommendation for the right number of plots to understand a given dataset, but visualizing your data is *always* a good idea. Not only does it allow you to quickly convey your findings (even if you have a non-technical audience), it will often reveal trends in your data that escaped you when you were looking only at numbers. It is important to not only create visualizations, but to **interpret your visualizations** as well.\n",
    "\n",
    "**Every plot should**:\n",
    "- Have a title\n",
    "- Have axis labels\n",
    "- Have appropriate tick labels\n",
    "- Text is legible in a plot\n",
    "- Plots demonstrate meaningful and valid relationships\n",
    "- Have an interpretation to aid understanding\n",
    "\n",
    "Here is an example of what your plots should look like following the above guidelines. Note that while the content of this example is unrelated, the principles of visualization hold:\n",
    "\n",
    "![](https://snag.gy/hCBR1U.jpg)\n",
    "*Interpretation: The above image shows that as we increase our spending on advertising, our sales numbers also tend to increase. There is a positive correlation between advertising spending and sales.*\n",
    "\n",
    "---\n",
    "\n",
    "Here are some prompts to get you started with visualizations. Feel free to add additional visualizations as you see fit:\n",
    "1. Use Seaborn's heatmap with pandas `.corr()` to visualize correlations between all numeric features.\n",
    "    - Heatmaps are generally not appropriate for presentations, and should often be excluded from reports as they can be visually overwhelming. **However**, they can be extremely useful in identify relationships of potential interest (as well as identifying potential collinearity before modeling).\n",
    "    - Please take time to format your output, adding a title. Look through some of the additional arguments and options. (Axis labels aren't really necessary, as long as the title is informative).\n",
    "2. Visualize distributions using histograms. If you have a lot, consider writing a custom function and use subplots.\n",
    "    - *OPTIONAL*: Summarize the underlying distributions of your features (in words & statistics)\n",
    "         - Be thorough in your verbal description of these distributions.\n",
    "         - Be sure to back up these summaries with statistics.\n",
    "         - We generally assume that data we sample from a population will be normally distributed. Do we observe this trend? Explain your answers for each distribution and how you think this will affect estimates made from these data.\n",
    "3. Plot and interpret boxplots. \n",
    "    - Boxplots demonstrate central tendency and spread in variables. In a certain sense, these are somewhat redundant with histograms, but you may be better able to identify clear outliers or differences in IQR, etc.\n",
    "    - Multiple values can be plotted to a single boxplot as long as they are of the same relative scale (meaning they have similar min/max values).\n",
    "    - Each boxplot should:\n",
    "        - Only include variables of a similar scale\n",
    "        - Have clear labels for each variable\n",
    "        - Have appropriate titles and labels\n",
    "4. Plot and interpret scatter plots to view relationships between features. Feel free to write a custom function, and subplot if you'd like. Functions save both time and space.\n",
    "    - Your plots should have:\n",
    "        - Two clearly labeled axes\n",
    "        - A proper title\n",
    "        - Colors and symbols that are clear and unmistakable\n",
    "5. Additional plots of your choosing.\n",
    "    - Are there any additional trends or relationships you haven't explored? Was there something interesting you saw that you'd like to dive further into? It's likely that there are a few more plots you might want to generate to support your narrative and recommendations that you are building toward. **As always, make sure you're interpreting your plots as you go**."
   ]
  },
  {
   "cell_type": "markdown",
   "metadata": {},
   "source": [
    "Some ideas for plots that can be generated:\n",
    "\n",
    "- Plot the histogram of the rainfall data with various bins and comment on the distribution of the data - is it centered, skewed?\n",
    "- Plot the box-and-whiskers plot. Comment on the different quartiles and identify any outliers in the dataset. \n",
    "- Is there a correlation between the number of rainy days and total rainfall in the month? What kind of correlation do your suspect? Does the graph show the same?\n"
   ]
  },
  {
   "cell_type": "code",
   "execution_count": null,
   "metadata": {},
   "outputs": [],
   "source": []
  },
  {
   "cell_type": "markdown",
   "metadata": {},
   "source": [
    "## Conclusions and Recommendations"
   ]
  },
  {
   "cell_type": "markdown",
   "metadata": {},
   "source": [
    "Based on your exploration of the data, what are you key takeaways and recommendations? Make sure to answer your question of interest or address your problem statement here."
   ]
  },
  {
   "cell_type": "markdown",
   "metadata": {},
   "source": [
    "**To-Do:** *Edit this cell with your conclusions and recommendations.*"
   ]
  },
  {
   "cell_type": "markdown",
   "metadata": {},
   "source": [
    "Don't forget to create your README!\n",
    "\n",
    "**To-Do:** *If you combine your problem statement, data dictionary, brief summary of your analysis, and conclusions/recommendations, you have an amazing README.md file that quickly aligns your audience to the contents of your project.* Don't forget to cite your data sources!"
   ]
  }
 ],
 "metadata": {
  "anaconda-cloud": {},
  "kernelspec": {
   "display_name": "Python 3 (ipykernel)",
   "language": "python",
   "name": "python3"
  },
  "language_info": {
   "codemirror_mode": {
    "name": "ipython",
    "version": 3
   },
   "file_extension": ".py",
   "mimetype": "text/x-python",
   "name": "python",
   "nbconvert_exporter": "python",
   "pygments_lexer": "ipython3",
   "version": "3.11.3"
  }
 },
 "nbformat": 4,
 "nbformat_minor": 4
}
